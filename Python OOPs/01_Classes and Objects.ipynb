{
 "cells": [
  {
   "cell_type": "code",
   "execution_count": 1,
   "metadata": {},
   "outputs": [],
   "source": [
    "# creating an empty class with the keyword class\n",
    "class university:\n",
    "    pass"
   ]
  },
  {
   "cell_type": "code",
   "execution_count": 2,
   "metadata": {},
   "outputs": [
    {
     "name": "stdout",
     "output_type": "stream",
     "text": [
      "Abdullah\n"
     ]
    }
   ],
   "source": [
    "# Creating a class with two variables\n",
    "class uni_info:\n",
    "    Name = 'Abdullah'\n",
    "    Program = \"BS CS\"\n",
    "    Section = \"1B\"\n",
    "# Creating an object of the above class\n",
    "first = uni_info()\n",
    "# Printing the Name of the student using class\n",
    "print(first.Name)"
   ]
  },
  {
   "cell_type": "code",
   "execution_count": 3,
   "metadata": {},
   "outputs": [
    {
     "name": "stdout",
     "output_type": "stream",
     "text": [
      "Shahzaib got admission in BS CS and is enrolled in Section 1B.\n"
     ]
    }
   ],
   "source": [
    "# Using self in python class method\n",
    "class new_student:\n",
    "    # Default name\n",
    "    Name = 'Abdullah'\n",
    "    Program = \"BS CS\"\n",
    "    Section = \"1B\"\n",
    "    # Creating a class method\n",
    "    def enter_info(self):\n",
    "        Name = input('Enter Your Name:')\n",
    "        Program = input(\"Enter the Program:\")\n",
    "        Section = input(\"Enter your section:\")\n",
    "        print(f\"{Name} got admission in {Program} and is enrolled in Section {Section}.\")\n",
    "# Creating an object\n",
    "Shahzaib = new_student()\n",
    "# Calling the function\n",
    "Shahzaib.enter_info()"
   ]
  }
 ],
 "metadata": {
  "kernelspec": {
   "display_name": "Python 3",
   "language": "python",
   "name": "python3"
  },
  "language_info": {
   "codemirror_mode": {
    "name": "ipython",
    "version": 3
   },
   "file_extension": ".py",
   "mimetype": "text/x-python",
   "name": "python",
   "nbconvert_exporter": "python",
   "pygments_lexer": "ipython3",
   "version": "3.11.4"
  }
 },
 "nbformat": 4,
 "nbformat_minor": 2
}
