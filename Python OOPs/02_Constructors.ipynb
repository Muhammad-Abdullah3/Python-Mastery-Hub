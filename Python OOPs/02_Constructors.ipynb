{
 "cells": [
  {
   "cell_type": "code",
   "execution_count": 1,
   "metadata": {},
   "outputs": [
    {
     "name": "stdout",
     "output_type": "stream",
     "text": [
      "RSCI\n"
     ]
    }
   ],
   "source": [
    "# Creating a default constructor\n",
    "# Creating a Class for an employee\n",
    "class empl:\n",
    "    def __init__(self):\n",
    "        self.Company = \"RSCI\"\n",
    "    # Method for printing the data members\n",
    "    def print_mem(self):\n",
    "        print(self.Company)\n",
    "# Creating an Object\n",
    "Hasan = empl()\n",
    "# Driver code to call printing method\n",
    "Hasan.print_mem()"
   ]
  },
  {
   "cell_type": "code",
   "execution_count": 3,
   "metadata": {},
   "outputs": [
    {
     "name": "stdout",
     "output_type": "stream",
     "text": [
      "Abdullah is a AI Engineer at RSCI.\n"
     ]
    }
   ],
   "source": [
    "# Creating a Parameterized Constructor\n",
    "# Creating a class empl_det\n",
    "class empl_det:\n",
    "    # Creating parameterized constructor\n",
    "    def __init__(self,Name,Designation):\n",
    "        self.Company = \"RSCI\"\n",
    "        self.Name = Name\n",
    "        self.Designation = Designation\n",
    "    # Creating a method to print out all info on empl\n",
    "    def print_info(self):\n",
    "        print(f\"{self.Name} is a {self.Designation} at {self.Company}.\")\n",
    "# Creating an object\n",
    "Nexus = empl_det(\"Abdullah\",\"AI Engineer\")\n",
    "# Displaying the info for employee\n",
    "Nexus.print_info()"
   ]
  },
  {
   "cell_type": "code",
   "execution_count": null,
   "metadata": {},
   "outputs": [],
   "source": []
  }
 ],
 "metadata": {
  "kernelspec": {
   "display_name": "Python 3",
   "language": "python",
   "name": "python3"
  },
  "language_info": {
   "codemirror_mode": {
    "name": "ipython",
    "version": 3
   },
   "file_extension": ".py",
   "mimetype": "text/x-python",
   "name": "python",
   "nbconvert_exporter": "python",
   "pygments_lexer": "ipython3",
   "version": "3.11.4"
  }
 },
 "nbformat": 4,
 "nbformat_minor": 2
}
