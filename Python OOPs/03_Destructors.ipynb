{
 "cells": [
  {
   "cell_type": "code",
   "execution_count": 4,
   "metadata": {},
   "outputs": [
    {
     "name": "stdout",
     "output_type": "stream",
     "text": [
      "Alina\n",
      "Destructor Called. Object deleted successfully.\n"
     ]
    }
   ],
   "source": [
    "# Python program to demonstrate destructors in Python\n",
    "# Creating a class student\n",
    "class student:\n",
    "    #Initializing Constructor\n",
    "    def __init__(self,name):\n",
    "        self.stu_name = name\n",
    "        print(self.stu_name)\n",
    "    # Deleting (Calling destructor)\n",
    "    def __del__(self):\n",
    "        print(\"Destructor Called. Object deleted successfully.\")\n",
    "# Creating an object\n",
    "alina = student(\"Alina\")"
   ]
  }
 ],
 "metadata": {
  "kernelspec": {
   "display_name": "Python 3",
   "language": "python",
   "name": "python3"
  },
  "language_info": {
   "codemirror_mode": {
    "name": "ipython",
    "version": 3
   },
   "file_extension": ".py",
   "mimetype": "text/x-python",
   "name": "python",
   "nbconvert_exporter": "python",
   "pygments_lexer": "ipython3",
   "version": "3.11.4"
  }
 },
 "nbformat": 4,
 "nbformat_minor": 2
}
