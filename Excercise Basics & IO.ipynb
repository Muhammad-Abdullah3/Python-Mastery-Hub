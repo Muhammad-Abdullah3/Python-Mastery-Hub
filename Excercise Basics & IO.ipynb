{
 "cells": [
  {
   "cell_type": "markdown",
   "id": "3eb04ccf-816e-40e3-a848-c539a5f27c67",
   "metadata": {},
   "source": [
    "# QNo1:\n",
    "Get three number from user as an input in which month, date and year of user's birthday and then use print() function to get the output\n",
    " of user's birthday on screen using \"-\" and also print this sentence before user's  DOB in the same line \"This is your Date of Birth\". Do not use \"-\" as an argument of print() function. The resulting output should look like this: This is Your Date of Birth: User' DOB"
   ]
  },
  {
   "cell_type": "code",
   "execution_count": 2,
   "id": "c166c678-b253-4eb5-8d7e-463b486845a6",
   "metadata": {},
   "outputs": [
    {
     "name": "stdin",
     "output_type": "stream",
     "text": [
      "Enter your date of birth: 26 08 2004\n"
     ]
    },
    {
     "name": "stdout",
     "output_type": "stream",
     "text": [
      "This is Your Date of Birth:26-08-2004\n"
     ]
    }
   ],
   "source": [
    "date, month, year = input(\"Enter your date of birth:\").split()\n",
    "print(\"This is Your Date of Birth\", end=\":\")\n",
    "print(date,month,year, sep=\"-\")"
   ]
  },
  {
   "cell_type": "code",
   "execution_count": null,
   "id": "3aefea7c-6186-4b18-b615-d2b5e9411a4f",
   "metadata": {},
   "outputs": [],
   "source": []
  }
 ],
 "metadata": {
  "kernelspec": {
   "display_name": "Python 3 (ipykernel)",
   "language": "python",
   "name": "python3"
  },
  "language_info": {
   "codemirror_mode": {
    "name": "ipython",
    "version": 3
   },
   "file_extension": ".py",
   "mimetype": "text/x-python",
   "name": "python",
   "nbconvert_exporter": "python",
   "pygments_lexer": "ipython3",
   "version": "3.11.4"
  }
 },
 "nbformat": 4,
 "nbformat_minor": 5
}
