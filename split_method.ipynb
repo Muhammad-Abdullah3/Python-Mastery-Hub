{
 "cells": [
  {
   "cell_type": "code",
   "execution_count": 2,
   "id": "d42b5a0f-daf6-4612-938a-104bdc471c3b",
   "metadata": {},
   "outputs": [
    {
     "name": "stdin",
     "output_type": "stream",
     "text": [
      "Enter two value 7 8\n"
     ]
    },
    {
     "name": "stdout",
     "output_type": "stream",
     "text": [
      "Number of boys: 7\n",
      "Number of girls: 8\n"
     ]
    }
   ],
   "source": [
    "#Taking two inputs at a time from user\n",
    "x,y = input(\"Enter two value\").split()\n",
    "print(\"Number of boys:\",x)\n",
    "print(\"Number of girls:\",y)\n"
   ]
  },
  {
   "cell_type": "code",
   "execution_count": null,
   "id": "f7998e65-a0bf-4973-9d8b-84692e0697ed",
   "metadata": {},
   "outputs": [],
   "source": []
  }
 ],
 "metadata": {
  "kernelspec": {
   "display_name": "Python 3 (ipykernel)",
   "language": "python",
   "name": "python3"
  },
  "language_info": {
   "codemirror_mode": {
    "name": "ipython",
    "version": 3
   },
   "file_extension": ".py",
   "mimetype": "text/x-python",
   "name": "python",
   "nbconvert_exporter": "python",
   "pygments_lexer": "ipython3",
   "version": "3.11.4"
  }
 },
 "nbformat": 4,
 "nbformat_minor": 5
}
