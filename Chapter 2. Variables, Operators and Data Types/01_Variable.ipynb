{
 "cells": [
  {
   "cell_type": "code",
   "execution_count": 3,
   "id": "d7bbef01-9f23-4e01-835a-2cecebc757f4",
   "metadata": {},
   "outputs": [
    {
     "name": "stdout",
     "output_type": "stream",
     "text": [
      "100\n",
      "What's your name\n"
     ]
    }
   ],
   "source": [
    "x = 100\n",
    "print(x)\n",
    "x = \"What's your name\"\n",
    "print(x)"
   ]
  },
  {
   "cell_type": "markdown",
   "id": "395dd9e7",
   "metadata": {},
   "source": [
    "# Assignment_01\n",
    "Try to create 10 different value variables, then asign them to each other in such a way that all  variables have same value."
   ]
  },
  {
   "cell_type": "code",
   "execution_count": 1,
   "id": "95b9f1f0",
   "metadata": {},
   "outputs": [
    {
     "name": "stdout",
     "output_type": "stream",
     "text": [
      "11\n",
      "11\n",
      "11\n",
      "11\n",
      "11\n",
      "11\n",
      "23\n",
      "11\n",
      "11\n",
      "11\n"
     ]
    }
   ],
   "source": [
    "a,b,c,d,e,f,g,h,i,j = 11,12,34,66,32,21,23,43,56,1\n",
    "j = a\n",
    "b = j\n",
    "c = b\n",
    "d = c\n",
    "e = d\n",
    "f = e\n",
    "h = f\n",
    "i = h\n",
    "print(a,b,c,d,e,f,g,h,i,j, sep =\"\\n\")"
   ]
  },
  {
   "cell_type": "code",
   "execution_count": null,
   "id": "fe95e78a",
   "metadata": {},
   "outputs": [],
   "source": []
  }
 ],
 "metadata": {
  "kernelspec": {
   "display_name": "Python 3 (ipykernel)",
   "language": "python",
   "name": "python3"
  },
  "language_info": {
   "codemirror_mode": {
    "name": "ipython",
    "version": 3
   },
   "file_extension": ".py",
   "mimetype": "text/x-python",
   "name": "python",
   "nbconvert_exporter": "python",
   "pygments_lexer": "ipython3",
   "version": "3.11.4"
  }
 },
 "nbformat": 4,
 "nbformat_minor": 5
}
