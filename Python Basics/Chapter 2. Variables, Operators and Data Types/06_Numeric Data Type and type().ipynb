{
 "cells": [
  {
   "cell_type": "code",
   "execution_count": 1,
   "metadata": {},
   "outputs": [
    {
     "name": "stdout",
     "output_type": "stream",
     "text": [
      "<class 'str'>\n",
      "<class 'int'>\n"
     ]
    }
   ],
   "source": [
    "# type function in python\n",
    "# data type string\n",
    "x = \"Hello World\"\n",
    "# data type integer\n",
    "y = 50\n",
    "print(type(x))\n",
    "print(type(y))"
   ]
  },
  {
   "cell_type": "code",
   "execution_count": 4,
   "metadata": {},
   "outputs": [],
   "source": [
    "# Python Program to demonstrate the Numeric data type\n",
    "# initializig three variables\n",
    "x = 5 # Integer as this is a whole number\n",
    "y = 9.3 # Float as this has a floating point\n",
    "z = 2+3j # Complex Number as it has real and imaginary parts"
   ]
  },
  {
   "cell_type": "code",
   "execution_count": 5,
   "metadata": {},
   "outputs": [
    {
     "name": "stdout",
     "output_type": "stream",
     "text": [
      "Type of x is:  <class 'int'>\n",
      "Type of y is:  <class 'float'>\n",
      "Type of z is:  <class 'complex'>\n"
     ]
    }
   ],
   "source": [
    "# Now we will verify the type for each of the above variables\n",
    "print(\"Type of x is: \",type(x))\n",
    "print(\"Type of y is: \",type(y))\n",
    "print(\"Type of z is: \",type(z))"
   ]
  },
  {
   "cell_type": "code",
   "execution_count": null,
   "metadata": {},
   "outputs": [],
   "source": []
  }
 ],
 "metadata": {
  "kernelspec": {
   "display_name": "Python 3",
   "language": "python",
   "name": "python3"
  },
  "language_info": {
   "codemirror_mode": {
    "name": "ipython",
    "version": 3
   },
   "file_extension": ".py",
   "mimetype": "text/x-python",
   "name": "python",
   "nbconvert_exporter": "python",
   "pygments_lexer": "ipython3",
   "version": "3.11.4"
  },
  "orig_nbformat": 4
 },
 "nbformat": 4,
 "nbformat_minor": 2
}
