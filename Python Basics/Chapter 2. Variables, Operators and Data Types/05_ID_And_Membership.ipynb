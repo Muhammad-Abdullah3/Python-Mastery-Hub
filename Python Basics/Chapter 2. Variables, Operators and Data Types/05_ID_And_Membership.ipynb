{
 "cells": [
  {
   "cell_type": "code",
   "execution_count": 2,
   "metadata": {},
   "outputs": [
    {
     "name": "stdout",
     "output_type": "stream",
     "text": [
      "Not Overlapping.\n",
      "Overlapping.\n",
      "Not Overlapping.\n",
      "Not Overlapping.\n",
      "Overlapping.\n",
      "Overlapping.\n"
     ]
    }
   ],
   "source": [
    "# Membership Operators\n",
    "list1 = [1,2,16,17,18,26]\n",
    "list2 = [32,6,19,18,26,2,35]\n",
    "for item in list1:\n",
    "    if item in list2:\n",
    "        print(\"Overlapping.\")\n",
    "    else:\n",
    "        print(\"Not Overlapping.\")"
   ]
  },
  {
   "cell_type": "code",
   "execution_count": 3,
   "metadata": {},
   "outputs": [
    {
     "name": "stdout",
     "output_type": "stream",
     "text": [
      "False\n",
      "True\n"
     ]
    }
   ],
   "source": [
    "x = 13\n",
    "y = 10\n",
    "lists = [3,6,9,13,18,20]\n",
    "if x not in lists:\n",
    "    print(\"True\")\n",
    "else:\n",
    "    print(\"False\")\n",
    "if y not in lists:\n",
    "    print(\"True\")\n",
    "else:\n",
    "    print(\"False\")"
   ]
  },
  {
   "cell_type": "code",
   "execution_count": 4,
   "metadata": {},
   "outputs": [
    {
     "name": "stdout",
     "output_type": "stream",
     "text": [
      "True\n"
     ]
    },
    {
     "data": {
      "text/plain": [
       "140731130897320"
      ]
     },
     "execution_count": 4,
     "metadata": {},
     "output_type": "execute_result"
    }
   ],
   "source": [
    "# Identity Operators\n",
    "x = 5\n",
    "y = 5\n",
    "print(x is y)\n",
    "id(x)\n",
    "id(y)"
   ]
  },
  {
   "cell_type": "code",
   "execution_count": 5,
   "metadata": {},
   "outputs": [
    {
     "name": "stdout",
     "output_type": "stream",
     "text": [
      "False\n",
      "True\n",
      "False\n"
     ]
    }
   ],
   "source": [
    "# Python program to demonstrate the use of is not identity operator\n",
    "x = [\"You\",\"Are\",\"Not\",\"Done.\"]\n",
    "y = [\"You\",\"Are\",\"Not\",\"Done.\"]\n",
    "z = x\n",
    "# Returns False because z is the same object as x\n",
    "print(x is not z)\n",
    " \n",
    "# Returns True because x is not the same object as y,\n",
    "# even if they have the same content\n",
    "print(x is not y)\n",
    " \n",
    "# To demonstrate the difference between \"is not\" and \"!=\":\n",
    "# This comparison returns False because x is equal to y\n",
    "print(x != y)\n"
   ]
  },
  {
   "cell_type": "code",
   "execution_count": null,
   "metadata": {},
   "outputs": [],
   "source": []
  }
 ],
 "metadata": {
  "kernelspec": {
   "display_name": "Python 3",
   "language": "python",
   "name": "python3"
  },
  "language_info": {
   "codemirror_mode": {
    "name": "ipython",
    "version": 3
   },
   "file_extension": ".py",
   "mimetype": "text/x-python",
   "name": "python",
   "nbconvert_exporter": "python",
   "pygments_lexer": "ipython3",
   "version": "3.11.4"
  },
  "orig_nbformat": 4
 },
 "nbformat": 4,
 "nbformat_minor": 2
}
