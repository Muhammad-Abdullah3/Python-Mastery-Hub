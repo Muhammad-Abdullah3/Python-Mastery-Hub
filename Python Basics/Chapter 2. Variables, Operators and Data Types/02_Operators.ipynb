{
 "cells": [
  {
   "cell_type": "markdown",
   "metadata": {},
   "source": [
    "# Arithimetic Operators"
   ]
  },
  {
   "cell_type": "code",
   "execution_count": 3,
   "metadata": {},
   "outputs": [],
   "source": [
    "# Creating Variables\n",
    "x =  90\n",
    "y = 23\n",
    "z = 12\n",
    "a = 45\n",
    "b = 3"
   ]
  },
  {
   "cell_type": "code",
   "execution_count": 4,
   "metadata": {},
   "outputs": [
    {
     "name": "stdout",
     "output_type": "stream",
     "text": [
      "113\n",
      "9\n",
      "135\n",
      "1.9166666666666667\n",
      "2\n",
      "6\n",
      "1728\n"
     ]
    }
   ],
   "source": [
    "# Addition\n",
    "g = x+y\n",
    "# Subtraction\n",
    "h = z-b\n",
    "# Multiplication\n",
    "i = b*a\n",
    "# Float Division\n",
    "j = y/z\n",
    "# Floor Division\n",
    "c = x//a\n",
    "# Modulus\n",
    "d = x%z\n",
    "# Power\n",
    "e = z**b\n",
    "# Printing out the result\n",
    "print(g,h,i,j,c,d,e, sep=\"\\n\")"
   ]
  },
  {
   "cell_type": "code",
   "execution_count": 9,
   "metadata": {},
   "outputs": [
    {
     "data": {
      "text/plain": [
       "90"
      ]
     },
     "execution_count": 9,
     "metadata": {},
     "output_type": "execute_result"
    }
   ],
   "source": [
    "x%1000"
   ]
  },
  {
   "cell_type": "markdown",
   "metadata": {},
   "source": [
    "### Logical not\n",
    "### logical and\n",
    "### logical or"
   ]
  },
  {
   "cell_type": "code",
   "execution_count": 1,
   "metadata": {},
   "outputs": [
    {
     "name": "stdout",
     "output_type": "stream",
     "text": [
      "Both numbers are greater than 0.\n",
      "At least one number is not greater than 0.\n"
     ]
    }
   ],
   "source": [
    "# Creating 4 variables\n",
    "a = 10\n",
    "b = 11\n",
    "c = -6\n",
    "d = 0\n",
    "# Demonstrating And Operator\n",
    "if a>0 and b>0:\n",
    "    print(\"Both numbers are greater than 0.\")\n",
    "if a>0 and c>0:\n",
    "    print(\"Both numbers are greater than 0.\")\n",
    "else:\n",
    "    print(\"At least one number is not greater than 0.\")"
   ]
  },
  {
   "cell_type": "code",
   "execution_count": 3,
   "metadata": {},
   "outputs": [
    {
     "name": "stdout",
     "output_type": "stream",
     "text": [
      "Either number is greater than 0.\n"
     ]
    }
   ],
   "source": [
    "# Demonstrating OR Operator\n",
    "if a>0 or c>0:\n",
    "    print(\"Either number is greater than 0.\")\n",
    "else:\n",
    "    print(\"Neither is greater than 0.\")"
   ]
  },
  {
   "cell_type": "code",
   "execution_count": 7,
   "metadata": {},
   "outputs": [
    {
     "name": "stdout",
     "output_type": "stream",
     "text": [
      "Boolean value of a is true.\n",
      "10 is divisible by either 3 or 5\n"
     ]
    }
   ],
   "source": [
    "# Demonstrating Not Operator\n",
    "if not a:\n",
    "    print(\"Boolean value of a is true.\")\n",
    "if not d:\n",
    "    print(\"Boolean value of a is true.\")\n",
    "# In Python, any non-zero value is considered as True. That is the reason not d is true and not a is false.\n",
    "if not (a%3==0 or a%5==0):\n",
    "    print(f\"{a} is not divisible by 3 and 5\")\n",
    "else:\n",
    "    print(f\"{a} is divisible by either 3 or 5\")"
   ]
  },
  {
   "cell_type": "code",
   "execution_count": null,
   "metadata": {},
   "outputs": [],
   "source": []
  }
 ],
 "metadata": {
  "kernelspec": {
   "display_name": "Python 3",
   "language": "python",
   "name": "python3"
  },
  "language_info": {
   "codemirror_mode": {
    "name": "ipython",
    "version": 3
   },
   "file_extension": ".py",
   "mimetype": "text/x-python",
   "name": "python",
   "nbconvert_exporter": "python",
   "pygments_lexer": "ipython3",
   "version": "3.11.4"
  },
  "orig_nbformat": 4
 },
 "nbformat": 4,
 "nbformat_minor": 2
}
