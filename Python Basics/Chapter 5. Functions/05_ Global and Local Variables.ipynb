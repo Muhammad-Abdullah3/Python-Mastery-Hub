{
 "cells": [
  {
   "cell_type": "code",
   "execution_count": 4,
   "metadata": {},
   "outputs": [],
   "source": [
    "# Python program to demonstrate use of global and local variable\n",
    "# Creating a funciton that prints I Love Cricket\n",
    "def cric():\n",
    "    # Creating a local variable\n",
    "    lov = \"I Love Cricket\"\n",
    "    # Acessing local variable inside function\n",
    "    print(\"Inside Funciton: \",lov)"
   ]
  },
  {
   "cell_type": "code",
   "execution_count": 5,
   "metadata": {},
   "outputs": [
    {
     "name": "stdout",
     "output_type": "stream",
     "text": [
      "Inside Funciton:  I Love Cricket\n"
     ]
    }
   ],
   "source": [
    "# Driver code to call funciton\n",
    "cric()"
   ]
  },
  {
   "cell_type": "code",
   "execution_count": 6,
   "metadata": {},
   "outputs": [
    {
     "ename": "NameError",
     "evalue": "name 'lov' is not defined",
     "output_type": "error",
     "traceback": [
      "\u001b[1;31m---------------------------------------------------------------------------\u001b[0m",
      "\u001b[1;31mNameError\u001b[0m                                 Traceback (most recent call last)",
      "\u001b[1;32me:\\Python in a Nutshell\\My Python Notes\\Python Basics\\Chapter 5. Functions\\05_ Global and Local Variables.ipynb Cell 3\u001b[0m line \u001b[0;36m2\n\u001b[0;32m      <a href='vscode-notebook-cell:/e%3A/Python%20in%20a%20Nutshell/My%20Python%20Notes/Python%20Basics/Chapter%205.%20Functions/05_%20Global%20and%20Local%20Variables.ipynb#W2sZmlsZQ%3D%3D?line=0'>1</a>\u001b[0m \u001b[39m# Accessing the local variable outside the funciton\u001b[39;00m\n\u001b[1;32m----> <a href='vscode-notebook-cell:/e%3A/Python%20in%20a%20Nutshell/My%20Python%20Notes/Python%20Basics/Chapter%205.%20Functions/05_%20Global%20and%20Local%20Variables.ipynb#W2sZmlsZQ%3D%3D?line=1'>2</a>\u001b[0m \u001b[39mprint\u001b[39m(lov)\n",
      "\u001b[1;31mNameError\u001b[0m: name 'lov' is not defined"
     ]
    }
   ],
   "source": [
    "# Accessing the local variable outside the funciton\n",
    "print(lov)"
   ]
  },
  {
   "cell_type": "markdown",
   "metadata": {},
   "source": [
    "# Global Variable"
   ]
  },
  {
   "cell_type": "code",
   "execution_count": 7,
   "metadata": {},
   "outputs": [
    {
     "name": "stdout",
     "output_type": "stream",
     "text": [
      "Inside Funciton:  I Love Cricket\n",
      "Outside Funciton:  I Love Football\n"
     ]
    }
   ],
   "source": [
    "# Creating a global variable with same name as local variable\n",
    "lov = \"I Love Football\"\n",
    "# Calling funciton\n",
    "cric()\n",
    "# Printing out global variable\n",
    "print(\"Outside Funciton: \",lov)"
   ]
  },
  {
   "cell_type": "markdown",
   "metadata": {},
   "source": [
    "# Gloabl Keyword"
   ]
  },
  {
   "cell_type": "code",
   "execution_count": 9,
   "metadata": {},
   "outputs": [
    {
     "name": "stdout",
     "output_type": "stream",
     "text": [
      "We Love Cricket\n",
      "Me Too\n"
     ]
    }
   ],
   "source": [
    "# Now we will create a funciton which has the same name of local variable as of global variable\n",
    "def newcric():\n",
    "    # Local Variable\n",
    "    loving = \"We Love Cricket\"\n",
    "    print(loving)\n",
    "# Creating Global Variable\n",
    "loving =  \"Me Too\"\n",
    "# Calling function\n",
    "newcric()\n",
    "# Printing gloabla variable\n",
    "print(loving)"
   ]
  },
  {
   "cell_type": "code",
   "execution_count": 10,
   "metadata": {},
   "outputs": [
    {
     "ename": "UnboundLocalError",
     "evalue": "cannot access local variable 'lover' where it is not associated with a value",
     "output_type": "error",
     "traceback": [
      "\u001b[1;31m---------------------------------------------------------------------------\u001b[0m",
      "\u001b[1;31mUnboundLocalError\u001b[0m                         Traceback (most recent call last)",
      "\u001b[1;32me:\\Python in a Nutshell\\My Python Notes\\Python Basics\\Chapter 5. Functions\\05_ Global and Local Variables.ipynb Cell 8\u001b[0m line \u001b[0;36m8\n\u001b[0;32m      <a href='vscode-notebook-cell:/e%3A/Python%20in%20a%20Nutshell/My%20Python%20Notes/Python%20Basics/Chapter%205.%20Functions/05_%20Global%20and%20Local%20Variables.ipynb#X10sZmlsZQ%3D%3D?line=5'>6</a>\u001b[0m lover \u001b[39m=\u001b[39m \u001b[39m\"\u001b[39m\u001b[39mPython is the best language I have known till this day.\u001b[39m\u001b[39m\"\u001b[39m\n\u001b[0;32m      <a href='vscode-notebook-cell:/e%3A/Python%20in%20a%20Nutshell/My%20Python%20Notes/Python%20Basics/Chapter%205.%20Functions/05_%20Global%20and%20Local%20Variables.ipynb#X10sZmlsZQ%3D%3D?line=6'>7</a>\u001b[0m \u001b[39m# Calling funciton\u001b[39;00m\n\u001b[1;32m----> <a href='vscode-notebook-cell:/e%3A/Python%20in%20a%20Nutshell/My%20Python%20Notes/Python%20Basics/Chapter%205.%20Functions/05_%20Global%20and%20Local%20Variables.ipynb#X10sZmlsZQ%3D%3D?line=7'>8</a>\u001b[0m newcric2()\n",
      "\u001b[1;32me:\\Python in a Nutshell\\My Python Notes\\Python Basics\\Chapter 5. Functions\\05_ Global and Local Variables.ipynb Cell 8\u001b[0m line \u001b[0;36m3\n\u001b[0;32m      <a href='vscode-notebook-cell:/e%3A/Python%20in%20a%20Nutshell/My%20Python%20Notes/Python%20Basics/Chapter%205.%20Functions/05_%20Global%20and%20Local%20Variables.ipynb#X10sZmlsZQ%3D%3D?line=1'>2</a>\u001b[0m \u001b[39mdef\u001b[39;00m \u001b[39mnewcric2\u001b[39m():\n\u001b[1;32m----> <a href='vscode-notebook-cell:/e%3A/Python%20in%20a%20Nutshell/My%20Python%20Notes/Python%20Basics/Chapter%205.%20Functions/05_%20Global%20and%20Local%20Variables.ipynb#X10sZmlsZQ%3D%3D?line=2'>3</a>\u001b[0m     lover \u001b[39m+\u001b[39m\u001b[39m=\u001b[39m \u001b[39m\"\u001b[39m\u001b[39mYou know\u001b[39m\u001b[39m\"\u001b[39m\n\u001b[0;32m      <a href='vscode-notebook-cell:/e%3A/Python%20in%20a%20Nutshell/My%20Python%20Notes/Python%20Basics/Chapter%205.%20Functions/05_%20Global%20and%20Local%20Variables.ipynb#X10sZmlsZQ%3D%3D?line=3'>4</a>\u001b[0m     \u001b[39mprint\u001b[39m(\u001b[39m\"\u001b[39m\u001b[39mInside funciton:\u001b[39m\u001b[39m\"\u001b[39m,loving)\n",
      "\u001b[1;31mUnboundLocalError\u001b[0m: cannot access local variable 'lover' where it is not associated with a value"
     ]
    }
   ],
   "source": [
    "# Now we will try to change the value of global variable inside function\n",
    "def newcric2():\n",
    "    lover += \"You know\"\n",
    "    print(\"Inside funciton:\",loving)\n",
    "# Global Namscope\n",
    "lover = \"Python is the best language I have known till this day.\"\n",
    "# Calling funciton\n",
    "newcric2()"
   ]
  },
  {
   "cell_type": "code",
   "execution_count": 14,
   "metadata": {},
   "outputs": [
    {
     "name": "stdout",
     "output_type": "stream",
     "text": [
      "Python is the best language I have known till this day.As You know that my interest are in AI.\n",
      "Global Variable Inside funciton: It is negative 10 degree here in Alaska.\n",
      "Global variable oustside Funciotn: It is negative 10 degree here in Alaska.\n"
     ]
    }
   ],
   "source": [
    "# Now we will use global keyword inside funciton \n",
    "# Creating a funciton\n",
    "# This funciton modifies the variable lover\n",
    "def newcric2():\n",
    "    global lover\n",
    "    lover += \"As You know that my interest are in AI.\"\n",
    "    print(lover)\n",
    "    # Global variable is assigned a new value because we used gloabal keyword\n",
    "    # and now variable with the name lover refers to global variable\n",
    "    lover = \"It is negative 10 degree here in Alaska.\"\n",
    "    # Printing the local\n",
    "    print(\"Global Variable Inside funciton:\",lover)\n",
    "# Global Ccope\n",
    "lover = \"Python is the best language I have known till this day.\"\n",
    "# Calling funciton\n",
    "newcric2()\n",
    "# Printing the global variable outside function\n",
    "print(\"Global variable oustside Funciotn:\",lover)"
   ]
  },
  {
   "cell_type": "code",
   "execution_count": null,
   "metadata": {},
   "outputs": [],
   "source": []
  }
 ],
 "metadata": {
  "kernelspec": {
   "display_name": "Python 3",
   "language": "python",
   "name": "python3"
  },
  "language_info": {
   "codemirror_mode": {
    "name": "ipython",
    "version": 3
   },
   "file_extension": ".py",
   "mimetype": "text/x-python",
   "name": "python",
   "nbconvert_exporter": "python",
   "pygments_lexer": "ipython3",
   "version": "3.11.4"
  },
  "orig_nbformat": 4
 },
 "nbformat": 4,
 "nbformat_minor": 2
}
