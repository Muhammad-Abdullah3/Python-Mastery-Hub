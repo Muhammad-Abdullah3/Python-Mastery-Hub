{
 "cells": [
  {
   "cell_type": "code",
   "execution_count": 1,
   "metadata": {},
   "outputs": [],
   "source": [
    "# Python program to demonstrate *args and *kwargs\n",
    "def Joke(*argv):\n",
    "    for arg in argv:\n",
    "        print(arg)\n",
    "\n"
   ]
  },
  {
   "cell_type": "code",
   "execution_count": 2,
   "metadata": {},
   "outputs": [
    {
     "name": "stdout",
     "output_type": "stream",
     "text": [
      "On What Ocassion\n",
      "Did\n",
      "Ken\n",
      "got his\n",
      "cue\n",
      "to be\n",
      "in\n",
      "action,\n",
      "well it was\n",
      "on\n",
      "barbecue.\n"
     ]
    }
   ],
   "source": [
    "Joke(\"On What Ocassion\",\"Did\",'Ken','got his','cue','to be','in','action,','well it was','on','barbecue.')"
   ]
  },
  {
   "cell_type": "code",
   "execution_count": 5,
   "metadata": {},
   "outputs": [
    {
     "name": "stdout",
     "output_type": "stream",
     "text": [
      "first == She\n",
      "second == nods\n",
      "third == in\n",
      "fourth == approval\n"
     ]
    }
   ],
   "source": [
    "# funciton for **kwargs\n",
    "def nod(**kwargs):\n",
    "    for key, value in kwargs.items():\n",
    "        print(\"%s == %s\" % (key, value))\n",
    " \n",
    " \n",
    "# Driver code\n",
    "nod(first='She', second='nods', third='in',fourth='approval')"
   ]
  },
  {
   "cell_type": "code",
   "execution_count": null,
   "metadata": {},
   "outputs": [],
   "source": []
  }
 ],
 "metadata": {
  "kernelspec": {
   "display_name": "Python 3",
   "language": "python",
   "name": "python3"
  },
  "language_info": {
   "codemirror_mode": {
    "name": "ipython",
    "version": 3
   },
   "file_extension": ".py",
   "mimetype": "text/x-python",
   "name": "python",
   "nbconvert_exporter": "python",
   "pygments_lexer": "ipython3",
   "version": "3.11.4"
  },
  "orig_nbformat": 4
 },
 "nbformat": 4,
 "nbformat_minor": 2
}
