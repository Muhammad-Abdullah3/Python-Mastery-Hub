{
 "cells": [
  {
   "cell_type": "code",
   "execution_count": 1,
   "metadata": {},
   "outputs": [
    {
     "name": "stdout",
     "output_type": "stream",
     "text": [
      "1\n",
      "2\n",
      "3\n"
     ]
    }
   ],
   "source": [
    "# Python program to demonstrate yield statement\n",
    "# Simple generator funciton with yield statement\n",
    "def simpleGenFun():\n",
    "    yield 1\n",
    "    yield 2\n",
    "    yield 3\n",
    "for value in simpleGenFun():\n",
    "    print(value)"
   ]
  },
  {
   "cell_type": "code",
   "execution_count": 5,
   "metadata": {},
   "outputs": [
    {
     "name": "stdout",
     "output_type": "stream",
     "text": [
      "1\n",
      "4\n",
      "9\n",
      "16\n",
      "25\n",
      "36\n",
      "49\n",
      "64\n",
      "81\n",
      "100\n"
     ]
    }
   ],
   "source": [
    "# Python generator funciton to generate complete squares between 1 to 100\n",
    "# Using Yield statement\n",
    "def squareGenFun():\n",
    "    i = 1\n",
    "    while True:\n",
    "        yield i*i\n",
    "        i+=1 #Next execution resumes\n",
    "# Calling the function\n",
    "for num in squareGenFun():\n",
    "    if num> 100:\n",
    "        break\n",
    "    print(num)\n"
   ]
  }
 ],
 "metadata": {
  "kernelspec": {
   "display_name": "Python 3",
   "language": "python",
   "name": "python3"
  },
  "language_info": {
   "codemirror_mode": {
    "name": "ipython",
    "version": 3
   },
   "file_extension": ".py",
   "mimetype": "text/x-python",
   "name": "python",
   "nbconvert_exporter": "python",
   "pygments_lexer": "ipython3",
   "version": "3.11.4"
  },
  "orig_nbformat": 4
 },
 "nbformat": 4,
 "nbformat_minor": 2
}
