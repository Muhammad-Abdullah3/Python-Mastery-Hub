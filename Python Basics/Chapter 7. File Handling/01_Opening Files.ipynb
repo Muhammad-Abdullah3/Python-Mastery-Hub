{
 "cells": [
  {
   "cell_type": "code",
   "execution_count": 13,
   "metadata": {},
   "outputs": [
    {
     "name": "stdout",
     "output_type": "stream",
     "text": [
      "Name    Abdullah   \n",
      "\n",
      "Age     19\n",
      "\n",
      "City    Lahore\n"
     ]
    }
   ],
   "source": [
    "# Opening file in reading mode\n",
    "# We have created a text file named as mite.txt in this folder\n",
    "file1 = open(\"mite.txt\",'r')\n",
    "# Printig each line in text file\n",
    "for each in file1:\n",
    "    print(each)"
   ]
  },
  {
   "cell_type": "code",
   "execution_count": 15,
   "metadata": {},
   "outputs": [
    {
     "name": "stdout",
     "output_type": "stream",
     "text": [
      "N a m e         A b d u l l a h       \n",
      " A g e           1 9 \n",
      " C i t y         L a h o r e "
     ]
    }
   ],
   "source": [
    "file1 = open(\"mite.txt\",'r')\n",
    "# Printig each word from each line in text file\n",
    "for each in file1:\n",
    "    for word in each:\n",
    "        print(word,end=\" \")"
   ]
  },
  {
   "cell_type": "code",
   "execution_count": null,
   "metadata": {},
   "outputs": [],
   "source": [
    "# "
   ]
  }
 ],
 "metadata": {
  "kernelspec": {
   "display_name": "Python 3",
   "language": "python",
   "name": "python3"
  },
  "language_info": {
   "codemirror_mode": {
    "name": "ipython",
    "version": 3
   },
   "file_extension": ".py",
   "mimetype": "text/x-python",
   "name": "python",
   "nbconvert_exporter": "python",
   "pygments_lexer": "ipython3",
   "version": "3.11.4"
  },
  "orig_nbformat": 4
 },
 "nbformat": 4,
 "nbformat_minor": 2
}
