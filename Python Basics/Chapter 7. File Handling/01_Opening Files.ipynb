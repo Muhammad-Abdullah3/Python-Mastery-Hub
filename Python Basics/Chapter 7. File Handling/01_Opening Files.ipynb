{
 "cells": [
  {
   "cell_type": "code",
   "execution_count": 13,
   "metadata": {},
   "outputs": [
    {
     "name": "stdout",
     "output_type": "stream",
     "text": [
      "Name    Abdullah   \n",
      "\n",
      "Age     19\n",
      "\n",
      "City    Lahore\n"
     ]
    }
   ],
   "source": [
    "# Opening file in reading mode\n",
    "# We have created a text file named as mite.txt in this folder\n",
    "file1 = open(\"mite.txt\",'r')\n",
    "# Printig each line in text file\n",
    "for each in file1:\n",
    "    print(each)"
   ]
  },
  {
   "cell_type": "code",
   "execution_count": 16,
   "metadata": {},
   "outputs": [
    {
     "name": "stdout",
     "output_type": "stream",
     "text": [
      "N a m e         A b d u l l a h       \n",
      " A g e           1 9 \n",
      " C i t y         L a h o r e "
     ]
    }
   ],
   "source": [
    "file2 = open(\"mite.txt\",'r')\n",
    "# Printig each word from each line in text file\n",
    "for each in file2:\n",
    "    for word in each:\n",
    "        print(word,end=\" \")"
   ]
  },
  {
   "cell_type": "code",
   "execution_count": 17,
   "metadata": {},
   "outputs": [
    {
     "name": "stdout",
     "output_type": "stream",
     "text": [
      "Name    Abdullah   \n",
      "Age     19\n",
      "City    Lahore\n"
     ]
    }
   ],
   "source": [
    "# File reading with read()\n",
    "file3 = open(\"mite.txt\",'r')\n",
    "print(file3.read()) "
   ]
  },
  {
   "cell_type": "code",
   "execution_count": 4,
   "metadata": {},
   "outputs": [
    {
     "name": "stdout",
     "output_type": "stream",
     "text": [
      "Name \n",
      "   Abdullah   \n",
      "\n"
     ]
    }
   ],
   "source": [
    "# Using read() to read specific words\n",
    "# Creating a file\n",
    "file4 = open(\"mite.txt\",'r')\n",
    "# reading the first 5 elements/characters of a text files\n",
    "print(file4.read(5))\n",
    "# reading the first 15 elements/characters of a text files\n",
    "print(file4.read(15))\n"
   ]
  },
  {
   "cell_type": "code",
   "execution_count": 7,
   "metadata": {},
   "outputs": [
    {
     "name": "stdout",
     "output_type": "stream",
     "text": [
      "Name    Abdullah   \n",
      "\n",
      "Age     19\n",
      "\n",
      "City    Lahore\n"
     ]
    }
   ],
   "source": [
    "# Reading lines one by one\n",
    "# Creating a file variable\n",
    "file5 = open(\"mite.txt\",'r')\n",
    "# printing first line of file\n",
    "print(file5.readline())\n",
    "# printing second line of file\n",
    "print(file5.readline())\n",
    "# printing third line of file\n",
    "print(file5.readline())"
   ]
  },
  {
   "cell_type": "code",
   "execution_count": 9,
   "metadata": {},
   "outputs": [
    {
     "name": "stdout",
     "output_type": "stream",
     "text": [
      "['Name    Abdullah   \\n', 'Age     19\\n', 'City    Lahore']\n"
     ]
    }
   ],
   "source": [
    "# Reading all lines at once and storing them in a list categorized by each line\n",
    "# Creating a file variable instance\n",
    "file6 = open(\"mite.txt\",'r')\n",
    "# Reading and storing file lines in a list\n",
    "lines_list = file6.readlines()\n",
    "# printing out the list of lines\n",
    "print(lines_list)"
   ]
  },
  {
   "cell_type": "code",
   "execution_count": null,
   "metadata": {},
   "outputs": [],
   "source": []
  }
 ],
 "metadata": {
  "kernelspec": {
   "display_name": "Python 3",
   "language": "python",
   "name": "python3"
  },
  "language_info": {
   "codemirror_mode": {
    "name": "ipython",
    "version": 3
   },
   "file_extension": ".py",
   "mimetype": "text/x-python",
   "name": "python",
   "nbconvert_exporter": "python",
   "pygments_lexer": "ipython3",
   "version": "3.11.4"
  },
  "orig_nbformat": 4
 },
 "nbformat": 4,
 "nbformat_minor": 2
}
