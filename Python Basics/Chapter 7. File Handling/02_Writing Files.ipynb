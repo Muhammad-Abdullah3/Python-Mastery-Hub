{
 "cells": [
  {
   "cell_type": "code",
   "execution_count": 5,
   "metadata": {},
   "outputs": [
    {
     "name": "stdout",
     "output_type": "stream",
     "text": [
      "This is me just joking and playing with the code.\n"
     ]
    }
   ],
   "source": [
    "# Creating and writing a new file\n",
    "# Creating a file instance\n",
    "file1 = open(\"demofile2.txt\",'w')\n",
    "# writing in the file\n",
    "file1.write(\"This is me just joking and playing with the code.\")\n",
    "# reading the file\n",
    "# Creating a file instance and opening above file in read mode\n",
    "file2 = open(\"demofile2.txt\",'r')\n",
    "# reading the file using read method\n",
    "print(file2.read())"
   ]
  },
  {
   "cell_type": "code",
   "execution_count": 6,
   "metadata": {},
   "outputs": [
    {
     "name": "stdout",
     "output_type": "stream",
     "text": [
      "\n",
      "And this is also me trying to write something again.\n"
     ]
    }
   ],
   "source": [
    "# Writing another line in the text file\n",
    "# Creating a file variable instance\n",
    "# Using 'a' for apend mode to write lines in files without \n",
    "file3 = open(\"demofile3.txt\",'a')\n",
    "file3.write(\"\\nAnd this is also me trying to write something again.\")\n",
    "# reading the file\n",
    "# Creating a file instance and opening above file in read mode\n",
    "file4 = open(\"demofile3.txt\",'r')\n",
    "# reading the file using read method\n",
    "print(file4.read())"
   ]
  },
  {
   "cell_type": "code",
   "execution_count": 7,
   "metadata": {},
   "outputs": [
    {
     "name": "stdout",
     "output_type": "stream",
     "text": [
      "Oops, I have deleted previous content\n"
     ]
    }
   ],
   "source": [
    "# Overwriting content of file using write mode 'w'\n",
    "# Creating a file variable instance\n",
    "# Opening an already existing file with following content\n",
    "\"\"\"Who killed President Bush is a real myster.\"\"\"\n",
    "file5 = open(\"demofile4.txt\",'w')\n",
    "file5.write(\"Oops, I have deleted previous content\")\n",
    "# reading the file\n",
    "# Creating a file instance and opening above file in read mode\n",
    "file6 = open(\"demofile4.txt\",'r')\n",
    "# reading the file using read method\n",
    "print(file6.read())"
   ]
  },
  {
   "cell_type": "code",
   "execution_count": 8,
   "metadata": {},
   "outputs": [
    {
     "name": "stdout",
     "output_type": "stream",
     "text": [
      "\n"
     ]
    }
   ],
   "source": [
    "# Above methods also create and write in the file if it doesn't exist\n",
    "# if we use 'x' mode it will create an empty file\n",
    "# Creating a file variable instance\n",
    "file7 = open(\"demofile5.txt\",'x')\n",
    "# reading the file\n",
    "# Creating a file instance and opening above file in read mode\n",
    "file8 = open(\"demofile5.txt\",'r')\n",
    "# reading the file using read method\n",
    "print(file4.read())"
   ]
  },
  {
   "cell_type": "code",
   "execution_count": null,
   "metadata": {},
   "outputs": [],
   "source": []
  }
 ],
 "metadata": {
  "kernelspec": {
   "display_name": "Python 3",
   "language": "python",
   "name": "python3"
  },
  "language_info": {
   "codemirror_mode": {
    "name": "ipython",
    "version": 3
   },
   "file_extension": ".py",
   "mimetype": "text/x-python",
   "name": "python",
   "nbconvert_exporter": "python",
   "pygments_lexer": "ipython3",
   "version": "3.11.4"
  },
  "orig_nbformat": 4
 },
 "nbformat": 4,
 "nbformat_minor": 2
}
