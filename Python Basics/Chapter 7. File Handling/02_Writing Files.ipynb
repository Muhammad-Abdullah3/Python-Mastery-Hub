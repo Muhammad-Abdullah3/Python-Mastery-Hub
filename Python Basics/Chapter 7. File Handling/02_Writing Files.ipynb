{
 "cells": [
  {
   "cell_type": "code",
   "execution_count": 2,
   "metadata": {},
   "outputs": [
    {
     "name": "stdout",
     "output_type": "stream",
     "text": [
      "This is me just joking and playing with the code.\n"
     ]
    }
   ],
   "source": [
    "# Creating and writing a new file\n",
    "# Creating a file instance\n",
    "file1 = open(\"demofile2.txt\",'w')\n",
    "# writing in the file\n",
    "file1.write(\"This is me just joking and playing with the code.\")\n",
    "# reading the file\n",
    "# Creating a file instance and opening above file in read mode\n",
    "file2 = open(\"demofile2.txt\",'r')\n",
    "# reading the file using read method\n",
    "print(file2.read())"
   ]
  },
  {
   "cell_type": "code",
   "execution_count": null,
   "metadata": {},
   "outputs": [],
   "source": []
  }
 ],
 "metadata": {
  "kernelspec": {
   "display_name": "Python 3",
   "language": "python",
   "name": "python3"
  },
  "language_info": {
   "codemirror_mode": {
    "name": "ipython",
    "version": 3
   },
   "file_extension": ".py",
   "mimetype": "text/x-python",
   "name": "python",
   "nbconvert_exporter": "python",
   "pygments_lexer": "ipython3",
   "version": "3.11.4"
  },
  "orig_nbformat": 4
 },
 "nbformat": 4,
 "nbformat_minor": 2
}
