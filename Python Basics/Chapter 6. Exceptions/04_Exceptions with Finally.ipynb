{
 "cells": [
  {
   "cell_type": "code",
   "execution_count": 3,
   "metadata": {},
   "outputs": [
    {
     "name": "stdout",
     "output_type": "stream",
     "text": [
      "unsupported operand type(s) for +: 'float' and 'str'\n",
      "I am in finally statement and I am always executed irrespective of try-except block.\n"
     ]
    }
   ],
   "source": [
    "# Python Program with try except and finally keyword\n",
    "def finally_fun():\n",
    "    # Creating a variable\n",
    "    a = 89\n",
    "    b = 3.1\n",
    "    c = \"String\"\n",
    "    # Try statement\n",
    "    try:\n",
    "        result = a+b+c\n",
    "        print(result)\n",
    "    except Exception as e:\n",
    "        print(e)\n",
    "    finally:\n",
    "        print(\"I am in finally statement and I am always executed irrespective of try-except block.\")\n",
    "# Driver code to call the function\n",
    "finally_fun()"
   ]
  },
  {
   "cell_type": "code",
   "execution_count": null,
   "metadata": {},
   "outputs": [],
   "source": []
  }
 ],
 "metadata": {
  "kernelspec": {
   "display_name": "Python 3",
   "language": "python",
   "name": "python3"
  },
  "language_info": {
   "codemirror_mode": {
    "name": "ipython",
    "version": 3
   },
   "file_extension": ".py",
   "mimetype": "text/x-python",
   "name": "python",
   "nbconvert_exporter": "python",
   "pygments_lexer": "ipython3",
   "version": "3.11.4"
  },
  "orig_nbformat": 4
 },
 "nbformat": 4,
 "nbformat_minor": 2
}
