{
 "cells": [
  {
   "cell_type": "markdown",
   "metadata": {},
   "source": [
    "# Some Built in Exceptions\n",
    "\n"
   ]
  },
  {
   "cell_type": "code",
   "execution_count": 1,
   "metadata": {},
   "outputs": [
    {
     "ename": "SyntaxError",
     "evalue": "expected ':' (719577041.py, line 1)",
     "output_type": "error",
     "traceback": [
      "\u001b[1;36m  Cell \u001b[1;32mIn[1], line 1\u001b[1;36m\u001b[0m\n\u001b[1;33m    def fun()\u001b[0m\n\u001b[1;37m             ^\u001b[0m\n\u001b[1;31mSyntaxError\u001b[0m\u001b[1;31m:\u001b[0m expected ':'\n"
     ]
    }
   ],
   "source": [
    "def fun()\n",
    "    print(\"Hello World\")"
   ]
  },
  {
   "cell_type": "code",
   "execution_count": 1,
   "metadata": {},
   "outputs": [
    {
     "ename": "TypeError",
     "evalue": "unsupported operand type(s) for +: 'int' and 'str'",
     "output_type": "error",
     "traceback": [
      "\u001b[1;31m---------------------------------------------------------------------------\u001b[0m",
      "\u001b[1;31mTypeError\u001b[0m                                 Traceback (most recent call last)",
      "\u001b[1;32me:\\Python in a Nutshell\\My Python Notes\\Python Basics\\Chapter 6. Exceptions\\Exception.ipynb Cell 3\u001b[0m line \u001b[0;36m3\n\u001b[0;32m      <a href='vscode-notebook-cell:/e%3A/Python%20in%20a%20Nutshell/My%20Python%20Notes/Python%20Basics/Chapter%206.%20Exceptions/Exception.ipynb#W2sZmlsZQ%3D%3D?line=0'>1</a>\u001b[0m f \u001b[39m=\u001b[39m \u001b[39m32\u001b[39m\n\u001b[0;32m      <a href='vscode-notebook-cell:/e%3A/Python%20in%20a%20Nutshell/My%20Python%20Notes/Python%20Basics/Chapter%206.%20Exceptions/Exception.ipynb#W2sZmlsZQ%3D%3D?line=1'>2</a>\u001b[0m st \u001b[39m=\u001b[39m \u001b[39m\"\u001b[39m\u001b[39mprint\u001b[39m\u001b[39m\"\u001b[39m\n\u001b[1;32m----> <a href='vscode-notebook-cell:/e%3A/Python%20in%20a%20Nutshell/My%20Python%20Notes/Python%20Basics/Chapter%206.%20Exceptions/Exception.ipynb#W2sZmlsZQ%3D%3D?line=2'>3</a>\u001b[0m f\u001b[39m+\u001b[39;49mst\n",
      "\u001b[1;31mTypeError\u001b[0m: unsupported operand type(s) for +: 'int' and 'str'"
     ]
    }
   ],
   "source": [
    "f = 32\n",
    "st = \"print\"\n",
    "f+st"
   ]
  },
  {
   "cell_type": "code",
   "execution_count": 2,
   "metadata": {},
   "outputs": [
    {
     "ename": "NameError",
     "evalue": "name 'multii' is not defined",
     "output_type": "error",
     "traceback": [
      "\u001b[1;31m---------------------------------------------------------------------------\u001b[0m",
      "\u001b[1;31mNameError\u001b[0m                                 Traceback (most recent call last)",
      "\u001b[1;32me:\\Python in a Nutshell\\My Python Notes\\Python Basics\\Chapter 6. Exceptions\\Exception.ipynb Cell 4\u001b[0m line \u001b[0;36m2\n\u001b[0;32m      <a href='vscode-notebook-cell:/e%3A/Python%20in%20a%20Nutshell/My%20Python%20Notes/Python%20Basics/Chapter%206.%20Exceptions/Exception.ipynb#W3sZmlsZQ%3D%3D?line=0'>1</a>\u001b[0m multi \u001b[39m=\u001b[39m\u001b[39m\"\u001b[39m\u001b[39mMulti national\u001b[39m\u001b[39m\"\u001b[39m\n\u001b[1;32m----> <a href='vscode-notebook-cell:/e%3A/Python%20in%20a%20Nutshell/My%20Python%20Notes/Python%20Basics/Chapter%206.%20Exceptions/Exception.ipynb#W3sZmlsZQ%3D%3D?line=1'>2</a>\u001b[0m \u001b[39mprint\u001b[39m(multii)\n",
      "\u001b[1;31mNameError\u001b[0m: name 'multii' is not defined"
     ]
    }
   ],
   "source": [
    "multi =\"Multi national\"\n",
    "print(multii)"
   ]
  },
  {
   "cell_type": "markdown",
   "metadata": {},
   "source": []
  },
  {
   "cell_type": "code",
   "execution_count": null,
   "metadata": {},
   "outputs": [],
   "source": []
  }
 ],
 "metadata": {
  "kernelspec": {
   "display_name": "Python 3",
   "language": "python",
   "name": "python3"
  },
  "language_info": {
   "codemirror_mode": {
    "name": "ipython",
    "version": 3
   },
   "file_extension": ".py",
   "mimetype": "text/x-python",
   "name": "python",
   "nbconvert_exporter": "python",
   "pygments_lexer": "ipython3",
   "version": "3.11.4"
  },
  "orig_nbformat": 4
 },
 "nbformat": 4,
 "nbformat_minor": 2
}
