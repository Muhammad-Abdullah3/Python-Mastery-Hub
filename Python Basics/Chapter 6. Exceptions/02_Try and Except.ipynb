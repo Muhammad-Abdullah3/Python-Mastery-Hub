{
 "cells": [
  {
   "cell_type": "code",
   "execution_count": 2,
   "metadata": {},
   "outputs": [
    {
     "name": "stdout",
     "output_type": "stream",
     "text": [
      "9*1 = 9\n",
      "9*2 = 18\n",
      "9*3 = 27\n",
      "9*4 = 36\n",
      "9*5 = 45\n",
      "9*6 = 54\n",
      "9*7 = 63\n",
      "9*8 = 72\n",
      "9*9 = 81\n",
      "9*10 = 90\n",
      "Code after except block will run, even if interpretor finds an error in the previous code.\n"
     ]
    }
   ],
   "source": [
    "#  Creating a Function that returns the table for a given number\n",
    "def multiply():\n",
    "# Creating a variable for input \n",
    "    a = input(\"Enter the number:\")\n",
    "    # Using for loop\n",
    "    try:\n",
    "        for i in range(1,11):\n",
    "            print(f\"{a}*{i} = {int(a)*int(i)}\")\n",
    "    except Exception as e:\n",
    "        print(e)\n",
    "    print(\"Code after except block will run, even if interpretor finds an error in the previous code.\")\n",
    "multiply()\n"
   ]
  },
  {
   "cell_type": "code",
   "execution_count": 3,
   "metadata": {},
   "outputs": [
    {
     "name": "stdout",
     "output_type": "stream",
     "text": [
      "invalid literal for int() with base 10: 'Sath nibhana'\n",
      "Code after except block will run, even if interpretor finds an error in the previous code.\n"
     ]
    }
   ],
   "source": [
    "multiply()"
   ]
  },
  {
   "cell_type": "code",
   "execution_count": null,
   "metadata": {},
   "outputs": [],
   "source": []
  }
 ],
 "metadata": {
  "kernelspec": {
   "display_name": "Python 3",
   "language": "python",
   "name": "python3"
  },
  "language_info": {
   "codemirror_mode": {
    "name": "ipython",
    "version": 3
   },
   "file_extension": ".py",
   "mimetype": "text/x-python",
   "name": "python",
   "nbconvert_exporter": "python",
   "pygments_lexer": "ipython3",
   "version": "3.11.4"
  },
  "orig_nbformat": 4
 },
 "nbformat": 4,
 "nbformat_minor": 2
}
