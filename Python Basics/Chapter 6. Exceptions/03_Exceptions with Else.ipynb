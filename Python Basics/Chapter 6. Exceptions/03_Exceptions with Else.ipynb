{
 "cells": [
  {
   "cell_type": "code",
   "execution_count": 4,
   "metadata": {},
   "outputs": [],
   "source": [
    "# Python program using exceptions with else clause\n",
    "# Creating a fuction\n",
    "def AB():\n",
    "    try:\n",
    "        a = int(input(\"Enter first number\"))\n",
    "        b = int(input(\"Enter second number\"))\n",
    "        try:\n",
    "            # changing the type to float\n",
    "            result = (float(a)+float(b))/(float(a)-float(b))\n",
    "        except Exception as e:\n",
    "            print(\"Denominator Cannot be zero.\")\n",
    "        else:\n",
    "            print(\"Result of division is:\",result)\n",
    "    except Exception as e:\n",
    "        print(e)\n"
   ]
  },
  {
   "cell_type": "code",
   "execution_count": 6,
   "metadata": {},
   "outputs": [
    {
     "name": "stdout",
     "output_type": "stream",
     "text": [
      "Result of division is: -18.333333333333332\n"
     ]
    }
   ],
   "source": [
    "# Driver code to call the function with right variable values\n",
    "AB()"
   ]
  },
  {
   "cell_type": "code",
   "execution_count": 9,
   "metadata": {},
   "outputs": [
    {
     "name": "stdout",
     "output_type": "stream",
     "text": [
      "invalid literal for int() with base 10: 'S'\n"
     ]
    }
   ],
   "source": [
    "# Calling function with defected values\n",
    "AB()"
   ]
  },
  {
   "cell_type": "code",
   "execution_count": 10,
   "metadata": {},
   "outputs": [
    {
     "name": "stdout",
     "output_type": "stream",
     "text": [
      "Denominator Cannot be zero.\n"
     ]
    }
   ],
   "source": [
    "# Calling the function with values resulting in Zero Division error\n",
    "AB()"
   ]
  },
  {
   "cell_type": "code",
   "execution_count": null,
   "metadata": {},
   "outputs": [],
   "source": []
  }
 ],
 "metadata": {
  "kernelspec": {
   "display_name": "Python 3",
   "language": "python",
   "name": "python3"
  },
  "language_info": {
   "codemirror_mode": {
    "name": "ipython",
    "version": 3
   },
   "file_extension": ".py",
   "mimetype": "text/x-python",
   "name": "python",
   "nbconvert_exporter": "python",
   "pygments_lexer": "ipython3",
   "version": "3.11.4"
  },
  "orig_nbformat": 4
 },
 "nbformat": 4,
 "nbformat_minor": 2
}
