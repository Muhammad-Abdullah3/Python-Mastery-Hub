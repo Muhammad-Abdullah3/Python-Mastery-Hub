{
 "cells": [
  {
   "cell_type": "code",
   "execution_count": 3,
   "metadata": {},
   "outputs": [
    {
     "data": {
      "text/plain": [
       "('Morrocco', 'Italy', 'France', 'England', 'USA')"
      ]
     },
     "execution_count": 3,
     "metadata": {},
     "output_type": "execute_result"
    }
   ],
   "source": [
    "tuple1 = (\"Morrocco\",\"Italy\",\"France\",\"England\",\"USA\")\n",
    "tuple1\n"
   ]
  },
  {
   "cell_type": "code",
   "execution_count": 4,
   "metadata": {},
   "outputs": [
    {
     "name": "stdout",
     "output_type": "stream",
     "text": [
      "Italy\n"
     ]
    }
   ],
   "source": [
    "print(tuple1[1])"
   ]
  },
  {
   "cell_type": "code",
   "execution_count": 5,
   "metadata": {},
   "outputs": [
    {
     "ename": "TypeError",
     "evalue": "'tuple' object does not support item assignment",
     "output_type": "error",
     "traceback": [
      "\u001b[1;31m---------------------------------------------------------------------------\u001b[0m",
      "\u001b[1;31mTypeError\u001b[0m                                 Traceback (most recent call last)",
      "Cell \u001b[1;32mIn[5], line 1\u001b[0m\n\u001b[1;32m----> 1\u001b[0m tuple1[\u001b[39m2\u001b[39;49m] \u001b[39m=\u001b[39m \u001b[39m\"\u001b[39m\u001b[39mDenmark\u001b[39m\u001b[39m\"\u001b[39m\n",
      "\u001b[1;31mTypeError\u001b[0m: 'tuple' object does not support item assignment"
     ]
    }
   ],
   "source": [
    "tuple1[2] = \"Denmark\""
   ]
  },
  {
   "cell_type": "code",
   "execution_count": 6,
   "metadata": {},
   "outputs": [],
   "source": [
    "tuple2 = (\"Iceland\",\"Greenland\",\"Netherland\",\"Turkey\",\"Romania\",\"Russia\")\n",
    "tuple3 = tuple1 + tuple2"
   ]
  },
  {
   "cell_type": "code",
   "execution_count": 7,
   "metadata": {},
   "outputs": [
    {
     "data": {
      "text/plain": [
       "('Morrocco',\n",
       " 'Italy',\n",
       " 'France',\n",
       " 'England',\n",
       " 'USA',\n",
       " 'Iceland',\n",
       " 'Greenland',\n",
       " 'Netherland',\n",
       " 'Turkey',\n",
       " 'Romania',\n",
       " 'Russia')"
      ]
     },
     "execution_count": 7,
     "metadata": {},
     "output_type": "execute_result"
    }
   ],
   "source": [
    "tuple3"
   ]
  },
  {
   "cell_type": "code",
   "execution_count": 8,
   "metadata": {},
   "outputs": [
    {
     "name": "stdout",
     "output_type": "stream",
     "text": [
      "Morrocco\n",
      "Italy\n",
      "France\n",
      "England\n",
      "USA\n",
      "Iceland\n",
      "Greenland\n",
      "Netherland\n",
      "Turkey\n",
      "Romania\n",
      "Russia\n"
     ]
    }
   ],
   "source": [
    "for tu in tuple3:\n",
    "    print(tu)"
   ]
  },
  {
   "cell_type": "code",
   "execution_count": 9,
   "metadata": {},
   "outputs": [],
   "source": [
    "tu = \"Turkey\"\n",
    "ind = tuple3.index(tu)"
   ]
  },
  {
   "cell_type": "code",
   "execution_count": 10,
   "metadata": {},
   "outputs": [
    {
     "name": "stdout",
     "output_type": "stream",
     "text": [
      "8\n"
     ]
    }
   ],
   "source": [
    "print(ind)"
   ]
  },
  {
   "cell_type": "code",
   "execution_count": 12,
   "metadata": {},
   "outputs": [
    {
     "name": "stdout",
     "output_type": "stream",
     "text": [
      "The Country \"Russia\" is found in the Tuple.\n"
     ]
    }
   ],
   "source": [
    "coun1 = \"Russia\"\n",
    "if coun1 in tuple3:\n",
    "    print(f\"The Country \\\"{coun1}\\\" is found in the Tuple.\")\n",
    "else:\n",
    "    print(f\"The element \\\"{coun1}\\\" is not found in the Tuple.\")"
   ]
  },
  {
   "cell_type": "code",
   "execution_count": 13,
   "metadata": {},
   "outputs": [],
   "source": [
    "tuple3 = tuple3*3"
   ]
  },
  {
   "cell_type": "code",
   "execution_count": 14,
   "metadata": {},
   "outputs": [
    {
     "data": {
      "text/plain": [
       "('Morrocco',\n",
       " 'Italy',\n",
       " 'France',\n",
       " 'England',\n",
       " 'USA',\n",
       " 'Iceland',\n",
       " 'Greenland',\n",
       " 'Netherland',\n",
       " 'Turkey',\n",
       " 'Romania',\n",
       " 'Russia',\n",
       " 'Morrocco',\n",
       " 'Italy',\n",
       " 'France',\n",
       " 'England',\n",
       " 'USA',\n",
       " 'Iceland',\n",
       " 'Greenland',\n",
       " 'Netherland',\n",
       " 'Turkey',\n",
       " 'Romania',\n",
       " 'Russia',\n",
       " 'Morrocco',\n",
       " 'Italy',\n",
       " 'France',\n",
       " 'England',\n",
       " 'USA',\n",
       " 'Iceland',\n",
       " 'Greenland',\n",
       " 'Netherland',\n",
       " 'Turkey',\n",
       " 'Romania',\n",
       " 'Russia')"
      ]
     },
     "execution_count": 14,
     "metadata": {},
     "output_type": "execute_result"
    }
   ],
   "source": [
    "tuple3"
   ]
  },
  {
   "cell_type": "code",
   "execution_count": null,
   "metadata": {},
   "outputs": [],
   "source": []
  }
 ],
 "metadata": {
  "kernelspec": {
   "display_name": "Python 3",
   "language": "python",
   "name": "python3"
  },
  "language_info": {
   "codemirror_mode": {
    "name": "ipython",
    "version": 3
   },
   "file_extension": ".py",
   "mimetype": "text/x-python",
   "name": "python",
   "nbconvert_exporter": "python",
   "pygments_lexer": "ipython3",
   "version": "3.11.4"
  },
  "orig_nbformat": 4
 },
 "nbformat": 4,
 "nbformat_minor": 2
}
