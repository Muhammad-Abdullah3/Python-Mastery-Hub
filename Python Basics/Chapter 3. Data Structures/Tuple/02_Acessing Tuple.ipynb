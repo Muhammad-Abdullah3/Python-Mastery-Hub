{
 "cells": [
  {
   "cell_type": "code",
   "execution_count": 1,
   "metadata": {},
   "outputs": [
    {
     "name": "stdout",
     "output_type": "stream",
     "text": [
      "(32, 56, 7, 8, 9, 23, 56, 4, 'String', 'Night', 'Stairs')\n"
     ]
    }
   ],
   "source": [
    "# Creating a tuple\n",
    "access_tuple = (32,56,7,8,9,23,56,4,\"String\",\"Night\",\"Stairs\")\n",
    "print(access_tuple)"
   ]
  },
  {
   "cell_type": "code",
   "execution_count": 3,
   "metadata": {},
   "outputs": [
    {
     "data": {
      "text/plain": [
       "56"
      ]
     },
     "execution_count": 3,
     "metadata": {},
     "output_type": "execute_result"
    }
   ],
   "source": [
    "# Acessing tuple with index\n",
    "# Accessing second item of tuple\n",
    "access_tuple[1]"
   ]
  },
  {
   "cell_type": "code",
   "execution_count": 4,
   "metadata": {},
   "outputs": [
    {
     "data": {
      "text/plain": [
       "'Stairs'"
      ]
     },
     "execution_count": 4,
     "metadata": {},
     "output_type": "execute_result"
    }
   ],
   "source": [
    "# Acessing last element\n",
    "access_tuple[-1]"
   ]
  },
  {
   "cell_type": "code",
   "execution_count": 7,
   "metadata": {},
   "outputs": [
    {
     "name": "stdout",
     "output_type": "stream",
     "text": [
      "First Element of the tuple is: 32\n",
      "Last element of tuple is: Stairs\n"
     ]
    }
   ],
   "source": [
    "# Acessing tuple using unpacking method\n",
    "# Unpacking the tuple\n",
    "a,b,c,d,e,f,g,h,i,j,k = access_tuple\n",
    "# Acessing first element\n",
    "print(\"First Element of the tuple is:\",a)\n",
    "# Acessing last element\n",
    "print(\"Last element of tuple is:\",k) "
   ]
  },
  {
   "cell_type": "code",
   "execution_count": null,
   "metadata": {},
   "outputs": [],
   "source": []
  }
 ],
 "metadata": {
  "kernelspec": {
   "display_name": "Python 3",
   "language": "python",
   "name": "python3"
  },
  "language_info": {
   "codemirror_mode": {
    "name": "ipython",
    "version": 3
   },
   "file_extension": ".py",
   "mimetype": "text/x-python",
   "name": "python",
   "nbconvert_exporter": "python",
   "pygments_lexer": "ipython3",
   "version": "3.11.4"
  },
  "orig_nbformat": 4
 },
 "nbformat": 4,
 "nbformat_minor": 2
}
