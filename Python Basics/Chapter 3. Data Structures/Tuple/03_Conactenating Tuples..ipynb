{
 "cells": [
  {
   "cell_type": "code",
   "execution_count": 2,
   "metadata": {},
   "outputs": [
    {
     "name": "stdout",
     "output_type": "stream",
     "text": [
      "Tuple 1: (1, 2, 5, 6, 7, 8, 23)\n",
      "Tuple 2: ('String', 'Tube', 'Nothing', 'Important')\n",
      "Tuple after concatenation: (1, 2, 5, 6, 7, 8, 23, 'String', 'Tube', 'Nothing', 'Important')\n"
     ]
    }
   ],
   "source": [
    "# Creating a tuple\n",
    "tuple1 = (1,2,5,6,7,8,23)\n",
    "tuple2 = (\"String\",\"Tube\",\"Nothing\",\"Important\")\n",
    "# Creating a tuple by cancatenation of first two tuple\n",
    "tuple3 = tuple1 + tuple2\n",
    "# Getting output of all tuples to compare them and see the difference\n",
    "print(\"Tuple 1:\",tuple1)\n",
    "print(\"Tuple 2:\",tuple2)\n",
    "print(\"Tuple after concatenation:\",tuple3)"
   ]
  },
  {
   "cell_type": "code",
   "execution_count": null,
   "metadata": {},
   "outputs": [],
   "source": []
  }
 ],
 "metadata": {
  "kernelspec": {
   "display_name": "Python 3",
   "language": "python",
   "name": "python3"
  },
  "language_info": {
   "codemirror_mode": {
    "name": "ipython",
    "version": 3
   },
   "file_extension": ".py",
   "mimetype": "text/x-python",
   "name": "python",
   "nbconvert_exporter": "python",
   "pygments_lexer": "ipython3",
   "version": "3.11.4"
  },
  "orig_nbformat": 4
 },
 "nbformat": 4,
 "nbformat_minor": 2
}
