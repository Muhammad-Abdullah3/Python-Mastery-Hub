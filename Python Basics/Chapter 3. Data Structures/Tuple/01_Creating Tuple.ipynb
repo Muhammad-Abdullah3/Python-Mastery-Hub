{
 "cells": [
  {
   "cell_type": "code",
   "execution_count": 1,
   "metadata": {},
   "outputs": [
    {
     "name": "stdout",
     "output_type": "stream",
     "text": [
      "<class 'tuple'>\n",
      "(1, 2, 3, 4, 5, 6, 7, 8, 9)\n"
     ]
    }
   ],
   "source": [
    "# Python program to demonstrate creation of tuple\n",
    "# Creating a tuple of integers\n",
    "tuple1 = (1,2,3,4,5,6,7,8,9)\n",
    "# Printing out the type of above variable\n",
    "print(type(tuple1))\n",
    "# Printing out the tuple\n",
    "print(tuple1)"
   ]
  },
  {
   "cell_type": "code",
   "execution_count": 2,
   "metadata": {},
   "outputs": [
    {
     "name": "stdout",
     "output_type": "stream",
     "text": [
      "('Strings', ' must', ' be attached.')\n"
     ]
    }
   ],
   "source": [
    "# Creating a tuple with strings\n",
    "tuple2 = (\"Strings\",\" must\",\" be attached.\")\n",
    "print(tuple2)"
   ]
  },
  {
   "cell_type": "code",
   "execution_count": 3,
   "metadata": {},
   "outputs": [
    {
     "name": "stdout",
     "output_type": "stream",
     "text": [
      "('This', 'is', 3, 45, 'Room', 45, '-', 89, 12, ' is', 'serial', 'number.')\n"
     ]
    }
   ],
   "source": [
    "# Creating a tuple with multiple types of elements\n",
    "# e.g strings, integers\n",
    "tuple3 = (\"This\",\"is\",3,45,\"Room\",45,\"-\",89,12,\" is\",\"serial\",\"number.\")\n",
    "print(tuple3)"
   ]
  },
  {
   "cell_type": "code",
   "execution_count": 4,
   "metadata": {},
   "outputs": [
    {
     "name": "stdout",
     "output_type": "stream",
     "text": [
      "(35, 'is it', [12, 'One Piece', True, 'Abdullah', 89, (3+4j)], 76, 5.43, [19, 'Double Trouble', 'Another brother', False])\n"
     ]
    }
   ],
   "source": [
    "# Creating a tuple with lists\n",
    "list1 = [12,\"One Piece\",True,\"Abdullah\",89,3+4j]\n",
    "list2 = [19,\"Double Trouble\",\"Another brother\",False]\n",
    "tuple4 = (35,\"is it\",list1,76,5.43,list2)\n",
    "print(tuple4)"
   ]
  },
  {
   "cell_type": "code",
   "execution_count": 5,
   "metadata": {},
   "outputs": [
    {
     "name": "stdout",
     "output_type": "stream",
     "text": [
      "(('This', 'is', 3, 45, 'Room', 45, '-', 89, 12, ' is', 'serial', 'number.'), ('Strings', ' must', ' be attached.'), (1, 2, 3, 4, 5, 6, 7, 8, 9))\n"
     ]
    }
   ],
   "source": [
    "# Creating a nested tuple\n",
    "tuple5 = ((\"This\",\"is\",3,45,\"Room\",45,\"-\",89,12,\" is\",\"serial\",\"number.\"),(\"Strings\",\" must\",\" be attached.\"),(1,2,3,4,5,6,7,8,9))\n",
    "print(tuple5)"
   ]
  },
  {
   "cell_type": "code",
   "execution_count": 7,
   "metadata": {},
   "outputs": [
    {
     "name": "stdout",
     "output_type": "stream",
     "text": [
      "('Multiply', (1, 2, 3, 4, 5, 6, 7, 8, 9, 1, 2, 3, 4, 5, 6, 7, 8, 9, 1, 2, 3, 4, 5, 6, 7, 8, 9))\n"
     ]
    }
   ],
   "source": [
    "# Creating a tuple with repitition\n",
    "tuple6 = (\"Multiply\",tuple1*3)\n",
    "print(tuple6)"
   ]
  },
  {
   "cell_type": "code",
   "execution_count": null,
   "metadata": {},
   "outputs": [],
   "source": []
  }
 ],
 "metadata": {
  "kernelspec": {
   "display_name": "Python 3",
   "language": "python",
   "name": "python3"
  },
  "language_info": {
   "codemirror_mode": {
    "name": "ipython",
    "version": 3
   },
   "file_extension": ".py",
   "mimetype": "text/x-python",
   "name": "python",
   "nbconvert_exporter": "python",
   "pygments_lexer": "ipython3",
   "version": "3.11.4"
  },
  "orig_nbformat": 4
 },
 "nbformat": 4,
 "nbformat_minor": 2
}
