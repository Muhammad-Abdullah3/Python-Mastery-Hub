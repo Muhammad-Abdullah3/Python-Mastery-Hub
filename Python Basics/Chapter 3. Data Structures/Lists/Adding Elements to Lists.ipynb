{
 "cells": [
  {
   "cell_type": "code",
   "execution_count": 17,
   "metadata": {},
   "outputs": [
    {
     "name": "stdout",
     "output_type": "stream",
     "text": [
      "Verifying the data type of variable: <class 'list'>\n"
     ]
    }
   ],
   "source": [
    "# Python program to demonstrate the adding of \n",
    "# elements in a list using different method\n",
    "# Creating a mixed list of numbers and strings and floats with some booleans\n",
    "mixedlist = [34,\"What's up\",2.3,False,\"mate?\",459]\n",
    "print(\"Verifying the data type of variable:\",type(mixedlist))"
   ]
  },
  {
   "cell_type": "markdown",
   "metadata": {},
   "source": [
    "# Method 1: Appennd()"
   ]
  },
  {
   "cell_type": "code",
   "execution_count": 18,
   "metadata": {},
   "outputs": [
    {
     "name": "stdout",
     "output_type": "stream",
     "text": [
      "[34, \"What's up\", 2.3, False, 'mate?', 459, 35]\n"
     ]
    }
   ],
   "source": [
    "# Adding elements of list using append() method\n",
    "mixedlist.append(35)\n",
    "print(mixedlist)"
   ]
  },
  {
   "cell_type": "code",
   "execution_count": 19,
   "metadata": {},
   "outputs": [
    {
     "name": "stdout",
     "output_type": "stream",
     "text": [
      "['Jaffer', 3, 'is a', 'very good', 'King.'] \n",
      " <class 'list'>\n"
     ]
    }
   ],
   "source": [
    "# Creating a new list\n",
    "list1 = [\"Jaffer\",3,\"is a\",\"very good\",\"King.\"]\n",
    "print(list1,\"\\n\",type(list1))"
   ]
  },
  {
   "cell_type": "code",
   "execution_count": 20,
   "metadata": {},
   "outputs": [
    {
     "name": "stdout",
     "output_type": "stream",
     "text": [
      "[34, \"What's up\", 2.3, False, 'mate?', 459, 35, ['Jaffer', 3, 'is a', 'very good', 'King.']]\n"
     ]
    }
   ],
   "source": [
    "# Adding the list using append method in the first list\n",
    "mixedlist.append(list1)\n",
    "print(mixedlist)"
   ]
  },
  {
   "cell_type": "code",
   "execution_count": 21,
   "metadata": {},
   "outputs": [
    {
     "data": {
      "text/plain": [
       "' So we can add any kind of data type in our list using append method at the end of the list'"
      ]
     },
     "execution_count": 21,
     "metadata": {},
     "output_type": "execute_result"
    }
   ],
   "source": [
    "\"\"\" So we can add any kind of data type in our list using append method at the end of the list\"\"\""
   ]
  },
  {
   "cell_type": "markdown",
   "metadata": {},
   "source": [
    "# Method 2: Insert()"
   ]
  },
  {
   "cell_type": "code",
   "execution_count": 22,
   "metadata": {},
   "outputs": [
    {
     "name": "stdout",
     "output_type": "stream",
     "text": [
      "Initial list: ['Jaffer', 3, 'is a', 'very good', 'King.']\n",
      "List after addition of element: ['Jaffer', 3, 89, 'is a', 'very good', 'King.']\n"
     ]
    }
   ],
   "source": [
    "# Adding elements in the list using insert method at 2nd index\n",
    "print(\"Initial list:\",list1)\n",
    "list1.insert(2,89)\n",
    "print(\"List after addition of element:\",list1)"
   ]
  },
  {
   "cell_type": "code",
   "execution_count": 23,
   "metadata": {},
   "outputs": [
    {
     "name": "stdout",
     "output_type": "stream",
     "text": [
      "Inital list: ['Jaffer', 3, 89, 'is a', 'very good', 'King.']\n",
      "['Jaffer', 3, 89, 'is a', 'very good', [34, \"What's up\", 2.3, False, 'mate?', 459, 35, [...]], 'King.']\n"
     ]
    }
   ],
   "source": [
    "# Adding a mixed list using insert method at 2nd last index\n",
    "print(\"Inital list:\",list1)\n",
    "list1.insert(-1,mixedlist)\n",
    "print(list1)"
   ]
  },
  {
   "cell_type": "markdown",
   "metadata": {},
   "source": [
    "# Method 3: Extend()"
   ]
  },
  {
   "cell_type": "code",
   "execution_count": 24,
   "metadata": {},
   "outputs": [
    {
     "name": "stdout",
     "output_type": "stream",
     "text": [
      "Initial list: [325, 98, True, 'Nasim', 'Shah', 'No way!']\n",
      "List after addition of multiple elements at the end: [325, 98, True, 'Nasim', 'Shah', 'No way!', 'After', 'Addition', 'of', 95]\n"
     ]
    }
   ],
   "source": [
    "# Creating a new list\n",
    "newlist = [325,98,True,\"Nasim\",\"Shah\",\"No way!\"]\n",
    "# Adding multiple elements at the end of the list\n",
    "print(\"Initial list:\",newlist)\n",
    "newlist.extend([\"After\",\"Addition\",\"of\",95])\n",
    "print(\"List after addition of multiple elements at the end:\",newlist)"
   ]
  },
  {
   "cell_type": "code",
   "execution_count": null,
   "metadata": {},
   "outputs": [],
   "source": []
  }
 ],
 "metadata": {
  "kernelspec": {
   "display_name": "Python 3",
   "language": "python",
   "name": "python3"
  },
  "language_info": {
   "codemirror_mode": {
    "name": "ipython",
    "version": 3
   },
   "file_extension": ".py",
   "mimetype": "text/x-python",
   "name": "python",
   "nbconvert_exporter": "python",
   "pygments_lexer": "ipython3",
   "version": "3.11.4"
  },
  "orig_nbformat": 4
 },
 "nbformat": 4,
 "nbformat_minor": 2
}
