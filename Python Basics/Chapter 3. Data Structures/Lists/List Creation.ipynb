{
 "cells": [
  {
   "cell_type": "code",
   "execution_count": 2,
   "metadata": {},
   "outputs": [
    {
     "name": "stdout",
     "output_type": "stream",
     "text": [
      "<class 'list'> \n",
      " [1, 23, 44, 2]\n"
     ]
    }
   ],
   "source": [
    "# Creating a list\n",
    "list1 = [1,23,44,2]\n",
    "print(type(list1),\"\\n\",list1)"
   ]
  },
  {
   "cell_type": "code",
   "execution_count": 5,
   "metadata": {},
   "outputs": [
    {
     "name": "stdout",
     "output_type": "stream",
     "text": [
      "[45, 'Slice of a Pie', 2.3, (23+2j), True] \n",
      " <class 'list'>\n"
     ]
    }
   ],
   "source": [
    "# Creating a list with multi type elements\n",
    "list2 = [45,\"Slice of a Pie\",2.3,23+2j,True]\n",
    "print(list2,\"\\n\",type(list2))"
   ]
  },
  {
   "cell_type": "code",
   "execution_count": 6,
   "metadata": {},
   "outputs": [
    {
     "name": "stdout",
     "output_type": "stream",
     "text": [
      "['This', 'is', 'my', 'hood.'] \n",
      " <class 'list'>\n"
     ]
    }
   ],
   "source": [
    "# Creating a list using list method from another list\n",
    "list3 = [\"This\",\"is\",\"my\",\"hood.\"]\n",
    "list4 = list(list3)\n",
    "print(list3,\"\\n\",type(list3))\n"
   ]
  },
  {
   "cell_type": "code",
   "execution_count": 8,
   "metadata": {},
   "outputs": [
    {
     "name": "stdout",
     "output_type": "stream",
     "text": [
      "['This', 'is', 'my', 'hood.'] \n",
      " <class 'list'>\n"
     ]
    }
   ],
   "source": [
    "print(list4,\"\\n\",type(list4))"
   ]
  },
  {
   "cell_type": "code",
   "execution_count": null,
   "metadata": {},
   "outputs": [],
   "source": []
  }
 ],
 "metadata": {
  "kernelspec": {
   "display_name": "Python 3",
   "language": "python",
   "name": "python3"
  },
  "language_info": {
   "codemirror_mode": {
    "name": "ipython",
    "version": 3
   },
   "file_extension": ".py",
   "mimetype": "text/x-python",
   "name": "python",
   "nbconvert_exporter": "python",
   "pygments_lexer": "ipython3",
   "version": "3.11.4"
  },
  "orig_nbformat": 4
 },
 "nbformat": 4,
 "nbformat_minor": 2
}
