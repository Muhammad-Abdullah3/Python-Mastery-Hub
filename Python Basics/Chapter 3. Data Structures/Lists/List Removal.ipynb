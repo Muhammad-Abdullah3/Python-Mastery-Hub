{
 "cells": [
  {
   "cell_type": "code",
   "execution_count": 2,
   "metadata": {},
   "outputs": [
    {
     "name": "stdout",
     "output_type": "stream",
     "text": [
      "Initial list: [3, 8, 'Three', 'Musketeers', 67, True]\n"
     ]
    }
   ],
   "source": [
    "# Python program to remove elements from a list\n",
    "# Creating a list\n",
    "remove_list = [3,8,\"Three\",\"Musketeers\",67,True]\n",
    "print(\"Initial list:\",remove_list)"
   ]
  },
  {
   "cell_type": "markdown",
   "metadata": {},
   "source": [
    "# Method 1: Remove()"
   ]
  },
  {
   "cell_type": "code",
   "execution_count": 4,
   "metadata": {},
   "outputs": [
    {
     "name": "stdout",
     "output_type": "stream",
     "text": [
      "LIst after removal of two elements: [8, 'Three', 'Musketeers', 67]\n"
     ]
    }
   ],
   "source": [
    "# Removing elements at 3 and True from list\n",
    "remove_list.remove(3)\n",
    "remove_list.remove(True)\n",
    "print(\"LIst after removal of two elements:\",remove_list)"
   ]
  },
  {
   "cell_type": "markdown",
   "metadata": {},
   "source": [
    "# Method 2: POP()"
   ]
  },
  {
   "cell_type": "code",
   "execution_count": 5,
   "metadata": {},
   "outputs": [
    {
     "name": "stdout",
     "output_type": "stream",
     "text": [
      "Initial list [8, 'Three', 'Musketeers', 67]\n",
      "Removed Element: Musketeers\n",
      "List after removal of element at 2nd index: [8, 'Three', 67]\n"
     ]
    }
   ],
   "source": [
    "# Removing elements from the list using pop() function\n",
    "# From a specific location\n",
    "print(\"Initial list\",remove_list)\n",
    "print(\"Removed Element:\",remove_list.pop(2))\n",
    "print(\"List after removal of element at 2nd index:\",remove_list)"
   ]
  },
  {
   "cell_type": "code",
   "execution_count": 6,
   "metadata": {},
   "outputs": [
    {
     "name": "stdout",
     "output_type": "stream",
     "text": [
      "Initial list [8, 'Three', 67]\n",
      "Removed Element: 67\n",
      "List after removal of element at last index: [8, 'Three']\n"
     ]
    }
   ],
   "source": [
    "# using pop method without specifying the index\n",
    "print(\"Initial list\",remove_list)\n",
    "print(\"Removed Element:\",remove_list.pop())\n",
    "print(\"List after removal of element at last index:\",remove_list)"
   ]
  },
  {
   "cell_type": "code",
   "execution_count": null,
   "metadata": {},
   "outputs": [],
   "source": []
  }
 ],
 "metadata": {
  "kernelspec": {
   "display_name": "Python 3",
   "language": "python",
   "name": "python3"
  },
  "language_info": {
   "codemirror_mode": {
    "name": "ipython",
    "version": 3
   },
   "file_extension": ".py",
   "mimetype": "text/x-python",
   "name": "python",
   "nbconvert_exporter": "python",
   "pygments_lexer": "ipython3",
   "version": "3.11.4"
  },
  "orig_nbformat": 4
 },
 "nbformat": 4,
 "nbformat_minor": 2
}
