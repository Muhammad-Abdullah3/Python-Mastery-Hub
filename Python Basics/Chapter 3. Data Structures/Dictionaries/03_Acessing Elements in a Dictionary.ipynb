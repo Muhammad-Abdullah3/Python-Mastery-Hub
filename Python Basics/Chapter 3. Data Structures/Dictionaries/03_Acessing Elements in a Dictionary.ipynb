{
 "cells": [
  {
   "cell_type": "code",
   "execution_count": 1,
   "metadata": {},
   "outputs": [],
   "source": [
    "# Python program to demonstrate acessing of elements in dictionary\n",
    "# Creating a dictionary\n",
    "acc_dict = {'a': 'Nothing', 'b': 'Will', 'c': 'Stop', 'd': 'Us', 'Set': ('Aside', 'From', 'Ourselves'), 'e': {'Nested': {1: 'What', 2: 'Matters', 3: 'to', 4: 'me', 5: 'is just', 6: 'you'}}}"
   ]
  },
  {
   "cell_type": "code",
   "execution_count": 2,
   "metadata": {},
   "outputs": [
    {
     "name": "stdout",
     "output_type": "stream",
     "text": [
      "{'a': 'Nothing', 'b': 'Will', 'c': 'Stop', 'd': 'Us', 'Set': ('Aside', 'From', 'Ourselves'), 'e': {'Nested': {1: 'What', 2: 'Matters', 3: 'to', 4: 'me', 5: 'is just', 6: 'you'}}}\n"
     ]
    }
   ],
   "source": [
    "print(acc_dict)"
   ]
  },
  {
   "cell_type": "code",
   "execution_count": 5,
   "metadata": {},
   "outputs": [
    {
     "name": "stdout",
     "output_type": "stream",
     "text": [
      "Nothing\n"
     ]
    }
   ],
   "source": [
    "# Acessing element using a key\n",
    "print(acc_dict['a'])"
   ]
  },
  {
   "cell_type": "code",
   "execution_count": 6,
   "metadata": {},
   "outputs": [
    {
     "name": "stdout",
     "output_type": "stream",
     "text": [
      "Will\n"
     ]
    }
   ],
   "source": [
    "# Acessing an element using get method\n",
    "print(acc_dict.get('b'))"
   ]
  },
  {
   "cell_type": "code",
   "execution_count": 7,
   "metadata": {},
   "outputs": [
    {
     "name": "stdout",
     "output_type": "stream",
     "text": [
      "{1: 'What', 2: 'Matters', 3: 'to', 4: 'me', 5: 'is just', 6: 'you'}\n"
     ]
    }
   ],
   "source": [
    "# Accessing an element of nested dictionary\n",
    "print(acc_dict['e']['Nested'])"
   ]
  },
  {
   "cell_type": "code",
   "execution_count": 9,
   "metadata": {},
   "outputs": [
    {
     "name": "stdout",
     "output_type": "stream",
     "text": [
      "to\n"
     ]
    }
   ],
   "source": [
    "# Accessing an element of nested dictionary within a nested dictionary\n",
    "print(acc_dict['e']['Nested'][3])"
   ]
  },
  {
   "cell_type": "code",
   "execution_count": null,
   "metadata": {},
   "outputs": [],
   "source": []
  }
 ],
 "metadata": {
  "kernelspec": {
   "display_name": "Python 3",
   "language": "python",
   "name": "python3"
  },
  "language_info": {
   "codemirror_mode": {
    "name": "ipython",
    "version": 3
   },
   "file_extension": ".py",
   "mimetype": "text/x-python",
   "name": "python",
   "nbconvert_exporter": "python",
   "pygments_lexer": "ipython3",
   "version": "3.11.4"
  },
  "orig_nbformat": 4
 },
 "nbformat": 4,
 "nbformat_minor": 2
}
