{
 "cells": [
  {
   "cell_type": "code",
   "execution_count": 1,
   "metadata": {},
   "outputs": [
    {
     "name": "stdout",
     "output_type": "stream",
     "text": [
      "{'Major 1': 'Java', 'Major 2': 'C++', 'Major 3': 'Java Script', 'ML & DS': {1: 'Python', 2: 'Scala', 3: 'R', 4: 'Julia'}, 'Frontend': 'Java Script', 'Backend': 'PHP', 'Databases': {1: 'MIcrosoft SQL', 2: 'MY SQL', 3: 'Postgree SQL', 4: 'Mongo DB'}}\n"
     ]
    }
   ],
   "source": [
    "# Python program to demonstrate some funcitons on dictionaries\n",
    "# Creating a dictionary of some Computer Science Entities\n",
    "CS = {\"Major 1\":\"Java\",'Major 2':\"C++\",'Major 3':\"Java Script\",\"ML & DS\":{1:\"Python\",2:\"Scala\",3:\"R\",4:\"Julia\"},\"Frontend\":\"Java Script\",\"Backend\":\"PHP\",\"Databases\":{1:\"MIcrosoft SQL\",2:\"MY SQL\",3:\"Postgree SQL\",4:\"Mongo DB\"}}\n",
    "print(CS)"
   ]
  },
  {
   "cell_type": "code",
   "execution_count": 2,
   "metadata": {},
   "outputs": [
    {
     "name": "stdout",
     "output_type": "stream",
     "text": [
      "{}\n"
     ]
    }
   ],
   "source": [
    "CS.clear() # Removes all the elements from dictionary\n",
    "print(CS)"
   ]
  },
  {
   "cell_type": "code",
   "execution_count": 3,
   "metadata": {},
   "outputs": [],
   "source": [
    "# Assigning all elements again\n",
    "CS = {\"Major 1\":\"Java\",'Major 2':\"C++\",'Major 3':\"Java Script\",\"ML & DS\":{1:\"Python\",2:\"Scala\",3:\"R\",4:\"Julia\"},\"Frontend\":\"Java Script\",\"Backend\":\"PHP\",\"Databases\":{1:\"MIcrosoft SQL\",2:\"MY SQL\",3:\"Postgree SQL\",4:\"Mongo DB\"}}"
   ]
  },
  {
   "cell_type": "code",
   "execution_count": 4,
   "metadata": {},
   "outputs": [
    {
     "name": "stdout",
     "output_type": "stream",
     "text": [
      "{'Major 1': 'Java', 'Major 2': 'C++', 'Major 3': 'Java Script', 'ML & DS': {1: 'Python', 2: 'Scala', 3: 'R', 4: 'Julia'}, 'Frontend': 'Java Script', 'Backend': 'PHP', 'Databases': {1: 'MIcrosoft SQL', 2: 'MY SQL', 3: 'Postgree SQL', 4: 'Mongo DB'}}\n"
     ]
    }
   ],
   "source": [
    "print(CS.copy()) # We get a copy of the dictionary\n"
   ]
  },
  {
   "cell_type": "code",
   "execution_count": 6,
   "metadata": {},
   "outputs": [
    {
     "name": "stdout",
     "output_type": "stream",
     "text": [
      "dict_items([('Major 1', 'Java'), ('Major 2', 'C++'), ('Major 3', 'Java Script'), ('ML & DS', {1: 'Python', 2: 'Scala', 3: 'R', 4: 'Julia'}), ('Frontend', 'Java Script'), ('Backend', 'PHP'), ('Databases', {1: 'MIcrosoft SQL', 2: 'MY SQL', 3: 'Postgree SQL', 4: 'Mongo DB'})])\n"
     ]
    }
   ],
   "source": [
    "print(CS.items()) # Returns a list containing a tuple for each key value pair"
   ]
  },
  {
   "cell_type": "code",
   "execution_count": 8,
   "metadata": {},
   "outputs": [
    {
     "data": {
      "text/plain": [
       "dict_keys(['Major 1', 'Major 2', 'Major 3', 'ML & DS', 'Frontend', 'Backend', 'Databases'])"
      ]
     },
     "execution_count": 8,
     "metadata": {},
     "output_type": "execute_result"
    }
   ],
   "source": [
    "CS.keys()# Returns a list containing dictionary’s keys"
   ]
  },
  {
   "cell_type": "code",
   "execution_count": 9,
   "metadata": {},
   "outputs": [
    {
     "data": {
      "text/plain": [
       "dict_values(['Java', 'C++', 'Java Script', {1: 'Python', 2: 'Scala', 3: 'R', 4: 'Julia'}, 'Java Script', 'PHP', {1: 'MIcrosoft SQL', 2: 'MY SQL', 3: 'Postgree SQL', 4: 'Mongo DB'}])"
      ]
     },
     "execution_count": 9,
     "metadata": {},
     "output_type": "execute_result"
    }
   ],
   "source": [
    "CS.values() #Returns a list of all the values of dictionary"
   ]
  }
 ],
 "metadata": {
  "kernelspec": {
   "display_name": "Python 3",
   "language": "python",
   "name": "python3"
  },
  "language_info": {
   "codemirror_mode": {
    "name": "ipython",
    "version": 3
   },
   "file_extension": ".py",
   "mimetype": "text/x-python",
   "name": "python",
   "nbconvert_exporter": "python",
   "pygments_lexer": "ipython3",
   "version": "3.11.4"
  },
  "orig_nbformat": 4
 },
 "nbformat": 4,
 "nbformat_minor": 2
}
