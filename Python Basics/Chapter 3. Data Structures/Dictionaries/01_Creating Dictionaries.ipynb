{
 "cells": [
  {
   "cell_type": "code",
   "execution_count": 1,
   "metadata": {},
   "outputs": [
    {
     "name": "stdout",
     "output_type": "stream",
     "text": [
      "{}\n",
      "<class 'dict'>\n"
     ]
    }
   ],
   "source": [
    "# Python Program to demonstrate creation of dictionaries\n",
    "# Creating an Empty Dictionary\n",
    "Dict = {}\n",
    "print(Dict)\n",
    "print(type(Dict))"
   ]
  },
  {
   "cell_type": "code",
   "execution_count": 2,
   "metadata": {},
   "outputs": [
    {
     "name": "stdout",
     "output_type": "stream",
     "text": [
      "{1: 5, 2: 4, 3: 3, 4: 2, 5: 1}\n"
     ]
    }
   ],
   "source": [
    "# Creating a dictionary of integers\n",
    "Dict1 = {1:5,2:4,3:3,4:2,5:1}\n",
    "print(Dict1)"
   ]
  },
  {
   "cell_type": "code",
   "execution_count": 3,
   "metadata": {},
   "outputs": [
    {
     "name": "stdout",
     "output_type": "stream",
     "text": [
      "{1: 'Seventy', 2: 'Three', 3: 'Hundred', 4: 'Thirty', 5: 'Seven'}\n"
     ]
    }
   ],
   "source": [
    "# Creating Dictionary with dict() method\n",
    "Dict2 = dict({1:\"Seventy\",2:\"Three\",3:\"Hundred\",4:\"Thirty\",5:\"Seven\"})\n",
    "print(Dict2)"
   ]
  },
  {
   "cell_type": "code",
   "execution_count": 4,
   "metadata": {},
   "outputs": [
    {
     "name": "stdout",
     "output_type": "stream",
     "text": [
      "{1: 'Seventy', 2: 'Three', 3: 'Hundred', 4: 'Thirty', 5: 'Seven'}\n"
     ]
    }
   ],
   "source": [
    "# Creating a Dictionary with each item as a pair\n",
    "Dict3 = dict([(1,\"Seventy\"),(2,\"Three\"),(3,\"Hundred\"),(4,\"Thirty\"),(5,\"Seven\")])\n",
    "print(Dict3)"
   ]
  },
  {
   "cell_type": "code",
   "execution_count": 6,
   "metadata": {},
   "outputs": [
    {
     "name": "stdout",
     "output_type": "stream",
     "text": [
      "{1: {'a': 'Muhammad', 'b': 'Abdullah'}, 2: {'A': 'University', 'B': 'Student'}}\n"
     ]
    }
   ],
   "source": [
    "# Creating a nested dictionary\n",
    "Dict4 = {1:{'a':\"Muhammad\",'b':\"Abdullah\"},2:{'A':\"University\",'B':\"Student\"}}\n",
    "print(Dict4)"
   ]
  },
  {
   "cell_type": "code",
   "execution_count": null,
   "metadata": {},
   "outputs": [],
   "source": []
  }
 ],
 "metadata": {
  "kernelspec": {
   "display_name": "Python 3",
   "language": "python",
   "name": "python3"
  },
  "language_info": {
   "codemirror_mode": {
    "name": "ipython",
    "version": 3
   },
   "file_extension": ".py",
   "mimetype": "text/x-python",
   "name": "python",
   "nbconvert_exporter": "python",
   "pygments_lexer": "ipython3",
   "version": "3.11.4"
  },
  "orig_nbformat": 4
 },
 "nbformat": 4,
 "nbformat_minor": 2
}
