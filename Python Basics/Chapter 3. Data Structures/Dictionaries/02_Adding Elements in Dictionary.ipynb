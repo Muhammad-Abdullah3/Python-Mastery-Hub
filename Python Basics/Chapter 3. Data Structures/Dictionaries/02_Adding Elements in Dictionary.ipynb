{
 "cells": [
  {
   "cell_type": "code",
   "execution_count": 1,
   "metadata": {},
   "outputs": [
    {
     "name": "stdout",
     "output_type": "stream",
     "text": [
      "{'a': 'Nothing'}\n"
     ]
    }
   ],
   "source": [
    "# Creating an Empty dictionary\n",
    "add_dict = {}\n",
    "# Adding one key value pair in the dictionary\n",
    "add_dict['a'] = \"Nothing\"\n",
    "print(add_dict)"
   ]
  },
  {
   "cell_type": "code",
   "execution_count": 2,
   "metadata": {},
   "outputs": [
    {
     "name": "stdout",
     "output_type": "stream",
     "text": [
      "{'a': 'Nothing', 'b': 'Can', 'c': 'Stop', 'd': 'Us'}\n"
     ]
    }
   ],
   "source": [
    "# Adding some value one at a time\n",
    "add_dict['b'] = \"Can\"\n",
    "add_dict['c'] = \"Stop\"\n",
    "add_dict['d'] = \"Us\"\n",
    "# Printing out dictionary\n",
    "print(add_dict)"
   ]
  },
  {
   "cell_type": "code",
   "execution_count": 3,
   "metadata": {},
   "outputs": [
    {
     "name": "stdout",
     "output_type": "stream",
     "text": [
      "{'a': 'Nothing', 'b': 'Can', 'c': 'Stop', 'd': 'Us', 'Set': ('Aside', 'From', 'Ourselves')}\n"
     ]
    }
   ],
   "source": [
    "# Adding a set of values to one key\n",
    "add_dict[\"Set\"] = \"Aside\",\"From\",\"Ourselves\"\n",
    "# Printing out dictionary\n",
    "print(add_dict)"
   ]
  },
  {
   "cell_type": "code",
   "execution_count": 4,
   "metadata": {},
   "outputs": [
    {
     "name": "stdout",
     "output_type": "stream",
     "text": [
      "Dictionary before Updatation: {'a': 'Nothing', 'b': 'Can', 'c': 'Stop', 'd': 'Us', 'Set': ('Aside', 'From', 'Ourselves')}\n",
      "Dictionary after Updatation: {'a': 'Nothing', 'b': 'Will', 'c': 'Stop', 'd': 'Us', 'Set': ('Aside', 'From', 'Ourselves')}\n"
     ]
    }
   ],
   "source": [
    "# Updating existing key value\n",
    "print(\"Dictionary before Updatation:\",add_dict)\n",
    "add_dict[\"b\"] = \"Will\"\n",
    "print(\"Dictionary after Updatation:\",add_dict)"
   ]
  },
  {
   "cell_type": "code",
   "execution_count": 5,
   "metadata": {},
   "outputs": [
    {
     "name": "stdout",
     "output_type": "stream",
     "text": [
      "{'a': 'Nothing', 'b': 'Will', 'c': 'Stop', 'd': 'Us', 'Set': ('Aside', 'From', 'Ourselves'), 'e': {'Nested': {1: 'What', 2: 'Matters', 3: 'to', 4: 'me', 5: 'is just', 6: 'you'}}}\n"
     ]
    }
   ],
   "source": [
    "# Adding Nested key value to a dictionary\n",
    "add_dict['e'] = {\"Nested\":{1:\"What\",2:\"Matters\",3:\"to\",4:\"me\",5:\"is just\",6:\"you\"}}\n",
    "print(add_dict) "
   ]
  },
  {
   "cell_type": "code",
   "execution_count": null,
   "metadata": {},
   "outputs": [],
   "source": []
  }
 ],
 "metadata": {
  "kernelspec": {
   "display_name": "Python 3",
   "language": "python",
   "name": "python3"
  },
  "language_info": {
   "codemirror_mode": {
    "name": "ipython",
    "version": 3
   },
   "file_extension": ".py",
   "mimetype": "text/x-python",
   "name": "python",
   "nbconvert_exporter": "python",
   "pygments_lexer": "ipython3",
   "version": "3.11.4"
  },
  "orig_nbformat": 4
 },
 "nbformat": 4,
 "nbformat_minor": 2
}
