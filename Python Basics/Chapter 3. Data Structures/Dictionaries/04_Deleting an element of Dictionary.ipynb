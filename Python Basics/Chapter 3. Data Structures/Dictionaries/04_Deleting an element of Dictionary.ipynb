{
 "cells": [
  {
   "cell_type": "code",
   "execution_count": 1,
   "metadata": {},
   "outputs": [
    {
     "name": "stdout",
     "output_type": "stream",
     "text": [
      "{'Major 1': 'Java', 'Major 2': 'C++', 'Major 3': 'Java Script', 'ML & DS': {1: 'Python', 2: 'Scala', 3: 'R', 4: 'Julia'}}\n"
     ]
    }
   ],
   "source": [
    "# Demo of Deleting elements in a dictionary\n",
    "# Creating a dictionary of some programming languages\n",
    "lan = {\"Major 1\":\"Java\",'Major 2':\"C++\",'Major 3':\"Java Script\",\"ML & DS\":{1:\"Python\",2:\"Scala\",3:\"R\",4:\"Julia\",}}\n",
    "print(lan)"
   ]
  },
  {
   "cell_type": "code",
   "execution_count": 3,
   "metadata": {},
   "outputs": [
    {
     "name": "stdout",
     "output_type": "stream",
     "text": [
      "Dictionary before Deleted value: {'Major 1': 'Java', 'Major 2': 'C++', 'Major 3': 'Java Script', 'ML & DS': {1: 'Python', 2: 'Scala', 3: 'R', 4: 'Julia'}}\n",
      "Dictionary after Deleted value: {'Major 1': 'Java', 'Major 3': 'Java Script', 'ML & DS': {1: 'Python', 2: 'Scala', 3: 'R', 4: 'Julia'}}\n"
     ]
    }
   ],
   "source": [
    "# Deleting an element using a key\n",
    "print(\"Dictionary before Deleted value:\",lan)\n",
    "del(lan[\"Major 2\"])\n",
    "print(\"Dictionary after Deleted value:\",lan)"
   ]
  },
  {
   "cell_type": "code",
   "execution_count": 4,
   "metadata": {},
   "outputs": [
    {
     "name": "stdout",
     "output_type": "stream",
     "text": [
      "Dictionary before Deleted value: {'Major 1': 'Java', 'Major 3': 'Java Script', 'ML & DS': {1: 'Python', 2: 'Scala', 3: 'R', 4: 'Julia'}}\n",
      "Dictionary after Deleted value: {'Major 1': 'Java', 'Major 3': 'Java Script', 'ML & DS': {1: 'Python', 2: 'Scala', 4: 'Julia'}}\n"
     ]
    }
   ],
   "source": [
    "# Deleting a nested element using a key\n",
    "print(\"Dictionary before Deleted value:\",lan)\n",
    "del(lan[\"ML & DS\"][3])\n",
    "print(\"Dictionary after Deleted value:\",lan)"
   ]
  },
  {
   "cell_type": "code",
   "execution_count": null,
   "metadata": {},
   "outputs": [],
   "source": []
  }
 ],
 "metadata": {
  "kernelspec": {
   "display_name": "Python 3",
   "language": "python",
   "name": "python3"
  },
  "language_info": {
   "codemirror_mode": {
    "name": "ipython",
    "version": 3
   },
   "file_extension": ".py",
   "mimetype": "text/x-python",
   "name": "python",
   "nbconvert_exporter": "python",
   "pygments_lexer": "ipython3",
   "version": "3.11.4"
  },
  "orig_nbformat": 4
 },
 "nbformat": 4,
 "nbformat_minor": 2
}
