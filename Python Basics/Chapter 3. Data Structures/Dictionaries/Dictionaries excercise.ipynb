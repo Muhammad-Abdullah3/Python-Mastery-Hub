{
 "cells": [
  {
   "cell_type": "code",
   "execution_count": 1,
   "metadata": {},
   "outputs": [],
   "source": [
    "# Create a dictionary with keys representing fruits and values representing their respective colors.\n",
    "fruitsdict = {'Apple':'Red',\n",
    " 'Banana':\"Yellow\",\n",
    " 'Grapes':\"Green\",\n",
    " 'Mango':\"Yellow\",\n",
    " 'Melon':\"White\",\n",
    " 'Pomegernate':\"Red\",\n",
    " 'Strawberry':\"Red\",\n",
    " 'Tomato':\"Red\",\n",
    " 'Watermelon':\"Green, black\"}"
   ]
  },
  {
   "cell_type": "code",
   "execution_count": 3,
   "metadata": {},
   "outputs": [
    {
     "data": {
      "text/plain": [
       "{'Apple': 'Red',\n",
       " 'Banana': 'Yellow',\n",
       " 'Grapes': 'Green',\n",
       " 'Mango': 'Yellow',\n",
       " 'Melon': 'White',\n",
       " 'Pomegernate': 'Red',\n",
       " 'Strawberry': 'Red',\n",
       " 'Tomato': 'Red',\n",
       " 'Watermelon': 'Green, black',\n",
       " 'Fig': 'Purple'}"
      ]
     },
     "execution_count": 3,
     "metadata": {},
     "output_type": "execute_result"
    }
   ],
   "source": [
    "# Add a new key pair value to the dictionary\n",
    "fruitsdict[\"Fig\"] = \"Purple\"\n",
    "fruitsdict"
   ]
  },
  {
   "cell_type": "code",
   "execution_count": 4,
   "metadata": {},
   "outputs": [
    {
     "name": "stdout",
     "output_type": "stream",
     "text": [
      "Green, black\n"
     ]
    }
   ],
   "source": [
    "# Access and print a colour value of a specific fruit\n",
    "print(fruitsdict[\"Watermelon\"])"
   ]
  },
  {
   "cell_type": "code",
   "execution_count": 6,
   "metadata": {},
   "outputs": [
    {
     "data": {
      "text/plain": [
       "'Red'"
      ]
     },
     "execution_count": 6,
     "metadata": {},
     "output_type": "execute_result"
    }
   ],
   "source": [
    "# Remove a key value pair from dictionary\n",
    "fruitsdict.pop(\"Apple\")"
   ]
  },
  {
   "cell_type": "code",
   "execution_count": 7,
   "metadata": {},
   "outputs": [
    {
     "data": {
      "text/plain": [
       "{'Banana': 'Yellow',\n",
       " 'Grapes': 'Green',\n",
       " 'Mango': 'Yellow',\n",
       " 'Melon': 'White',\n",
       " 'Pomegernate': 'Red',\n",
       " 'Strawberry': 'Red',\n",
       " 'Tomato': 'Red',\n",
       " 'Watermelon': 'Green, black',\n",
       " 'Fig': 'Purple'}"
      ]
     },
     "execution_count": 7,
     "metadata": {},
     "output_type": "execute_result"
    }
   ],
   "source": [
    "fruitsdict"
   ]
  },
  {
   "cell_type": "code",
   "execution_count": 8,
   "metadata": {},
   "outputs": [
    {
     "data": {
      "text/plain": [
       "dict_keys(['Banana', 'Grapes', 'Mango', 'Melon', 'Pomegernate', 'Strawberry', 'Tomato', 'Watermelon', 'Fig'])"
      ]
     },
     "execution_count": 8,
     "metadata": {},
     "output_type": "execute_result"
    }
   ],
   "source": [
    "# Print all the keys in the dictionary.\n",
    "fruitsdict.keys()"
   ]
  },
  {
   "cell_type": "code",
   "execution_count": 9,
   "metadata": {},
   "outputs": [
    {
     "data": {
      "text/plain": [
       "dict_values(['Yellow', 'Green', 'Yellow', 'White', 'Red', 'Red', 'Red', 'Green, black', 'Purple'])"
      ]
     },
     "execution_count": 9,
     "metadata": {},
     "output_type": "execute_result"
    }
   ],
   "source": [
    "#Print all the values in the dictionary.\n",
    "fruitsdict.values()"
   ]
  },
  {
   "cell_type": "code",
   "execution_count": 10,
   "metadata": {},
   "outputs": [
    {
     "name": "stdout",
     "output_type": "stream",
     "text": [
      "The Fruit Banana exist in the dictionary\n"
     ]
    }
   ],
   "source": [
    "# Check if a certain fruit exists as a key in the dictionary.\n",
    "check = \"Banana\"\n",
    "if check in fruitsdict:\n",
    "    print(f\"The Fruit {check} exist in the dictionary\")\n",
    "else:\n",
    "    print(f\"The Fruit {check} does not exist in the dictionary\")"
   ]
  },
  {
   "cell_type": "code",
   "execution_count": 11,
   "metadata": {},
   "outputs": [
    {
     "name": "stdout",
     "output_type": "stream",
     "text": [
      "Banana\n",
      "Grapes\n",
      "Mango\n",
      "Melon\n",
      "Pomegernate\n",
      "Strawberry\n",
      "Tomato\n",
      "Watermelon\n",
      "Fig\n"
     ]
    }
   ],
   "source": [
    "# Iterate through the dictionary\n",
    "for dic in fruitsdict:\n",
    "    print(dic)"
   ]
  },
  {
   "cell_type": "code",
   "execution_count": null,
   "metadata": {},
   "outputs": [],
   "source": []
  }
 ],
 "metadata": {
  "kernelspec": {
   "display_name": "Python 3",
   "language": "python",
   "name": "python3"
  },
  "language_info": {
   "codemirror_mode": {
    "name": "ipython",
    "version": 3
   },
   "file_extension": ".py",
   "mimetype": "text/x-python",
   "name": "python",
   "nbconvert_exporter": "python",
   "pygments_lexer": "ipython3",
   "version": "3.11.4"
  },
  "orig_nbformat": 4
 },
 "nbformat": 4,
 "nbformat_minor": 2
}
