{
 "cells": [
  {
   "cell_type": "markdown",
   "metadata": {},
   "source": [
    "# Formatting strings"
   ]
  },
  {
   "cell_type": "code",
   "execution_count": 1,
   "metadata": {},
   "outputs": [
    {
     "name": "stdout",
     "output_type": "stream",
     "text": [
      "Stakeholders were not satisfied.\n"
     ]
    }
   ],
   "source": [
    "'''Strings in Python can be formatted with the use of format() method which is a very versatile and powerful tool for \n",
    "formatting Strings. Format method in String contains curly braces {} as placeholders which can hold arguments according\n",
    "to position or keyword to specify the order.'''\n",
    "# Creating a string without format method\n",
    "string1 = \"Stakeholders were not satisfied.\"\n",
    "print(string1)"
   ]
  },
  {
   "cell_type": "code",
   "execution_count": 5,
   "metadata": {},
   "outputs": [
    {
     "name": "stdout",
     "output_type": "stream",
     "text": [
      "Stakeholderswerenotsatisfied.\n"
     ]
    }
   ],
   "source": [
    "# Creating a string with format\n",
    "# By default order\n",
    "string2 = \"{}{}{}{}\".format('Stakeholders','were','not','satisfied.')\n",
    "print(string2)"
   ]
  },
  {
   "cell_type": "code",
   "execution_count": 4,
   "metadata": {},
   "outputs": [
    {
     "name": "stdout",
     "output_type": "stream",
     "text": [
      "Facts must beStated.\n"
     ]
    }
   ],
   "source": [
    "# Positional formatting\n",
    "string3 = \"{2}{3}{1}{0}\".format('Stated.','be','Facts ','must ')\n",
    "print(string3)"
   ]
  },
  {
   "cell_type": "code",
   "execution_count": 6,
   "metadata": {},
   "outputs": [
    {
     "name": "stdout",
     "output_type": "stream",
     "text": [
      "Lived up to expectations.\n"
     ]
    }
   ],
   "source": [
    "# Keyword Formatting\n",
    "# Positional formatting\n",
    "string4 = \"{a}{c}{b}{d}\".format(a='Lived ',b='to ',c='up ',d='expectations.')\n",
    "print(string4)"
   ]
  },
  {
   "cell_type": "code",
   "execution_count": 7,
   "metadata": {},
   "outputs": [
    {
     "name": "stdout",
     "output_type": "stream",
     "text": [
      "\n",
      "Binary representation of 16 is \n",
      "10011\n"
     ]
    }
   ],
   "source": [
    "'''Integers such as Binary, hexadecimal, etc., and floats can be rounded or displayed in the exponent form with \n",
    "the use of format specifiers.'''\n",
    "# Formatting of Integers\n",
    "intstring1 = \"{0:b}\".format(19)\n",
    "print(\"\\nBinary representation of 16 is \")\n",
    "print(intstring1)\n"
   ]
  },
  {
   "cell_type": "code",
   "execution_count": 8,
   "metadata": {},
   "outputs": [
    {
     "name": "stdout",
     "output_type": "stream",
     "text": [
      "\n",
      "Exponent representation of 165.6458 is \n",
      "9.345610e+01\n"
     ]
    }
   ],
   "source": [
    " \n",
    "# Formatting of Floats\n",
    "intstring2 = \"{0:e}\".format(93.4561)\n",
    "print(\"\\nExponent representation of 165.6458 is \")\n",
    "print(intstring2)"
   ]
  },
  {
   "cell_type": "code",
   "execution_count": 9,
   "metadata": {},
   "outputs": [
    {
     "name": "stdout",
     "output_type": "stream",
     "text": [
      "\n",
      "Rounding off 34/289: \n",
      "0.12\n"
     ]
    }
   ],
   "source": [
    "# Rounding off Integers\n",
    "intstring3 = \"{0:.2f}\".format(34/289)\n",
    "print(\"\\nRounding off 34/289: \")\n",
    "print(intstring3)"
   ]
  },
  {
   "cell_type": "code",
   "execution_count": 10,
   "metadata": {},
   "outputs": [
    {
     "name": "stdout",
     "output_type": "stream",
     "text": [
      "\n",
      "Left, center and right alignment with Formatting: \n",
      "|Name      |    is    |  Abdullah|\n",
      "\n",
      "    Abdullah     was born in 2003!\n"
     ]
    }
   ],
   "source": [
    "'''A string can be left, right, or center aligned with the use of format specifiers, separated by a colon(:). \n",
    "The (<) indicates that the string should be aligned to the left, (>) indicates that the string should be aligned to \n",
    "the right and (^) indicates that the string should be aligned to the center. We can also specify the length in which \n",
    "it should be aligned. For example, (<10) means that the string should be aligned to the left within a field of width \n",
    "of 10 characters.'''\n",
    "# String alignment\n",
    "Stringall = \"|{:<10}|{:^10}|{:>10}|\".format('Name',\n",
    "                                          'is',\n",
    "                                          'Abdullah')\n",
    "print(\"\\nLeft, center and right alignment with Formatting: \")\n",
    "print(Stringall)\n",
    " \n",
    "# To demonstrate aligning of spaces\n",
    "Stringall2 = \"\\n{0:^16} was born in {1:<4}!\".format(\"Abdullah\",\n",
    "                                                    2003)\n",
    "print(Stringall2)"
   ]
  },
  {
   "cell_type": "code",
   "execution_count": null,
   "metadata": {},
   "outputs": [],
   "source": []
  }
 ],
 "metadata": {
  "kernelspec": {
   "display_name": "Python 3",
   "language": "python",
   "name": "python3"
  },
  "language_info": {
   "codemirror_mode": {
    "name": "ipython",
    "version": 3
   },
   "file_extension": ".py",
   "mimetype": "text/x-python",
   "name": "python",
   "nbconvert_exporter": "python",
   "pygments_lexer": "ipython3",
   "version": "3.11.4"
  },
  "orig_nbformat": 4
 },
 "nbformat": 4,
 "nbformat_minor": 2
}
