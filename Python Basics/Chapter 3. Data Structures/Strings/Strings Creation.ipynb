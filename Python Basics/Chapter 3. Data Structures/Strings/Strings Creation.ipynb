{
 "cells": [
  {
   "cell_type": "code",
   "execution_count": 1,
   "metadata": {},
   "outputs": [
    {
     "name": "stdout",
     "output_type": "stream",
     "text": [
      "My name is Abdullah\n",
      "<class 'str'>\n"
     ]
    }
   ],
   "source": [
    "# Python Program to explain strings\n",
    "# Creating a string using single quotes\n",
    "string1 =  'My name is Abdullah'\n",
    "print(string1)\n",
    "print(type(string1))\n"
   ]
  },
  {
   "cell_type": "code",
   "execution_count": 2,
   "metadata": {},
   "outputs": [
    {
     "name": "stdout",
     "output_type": "stream",
     "text": [
      "I live in Pakistan.\n",
      "<class 'str'>\n"
     ]
    }
   ],
   "source": [
    "# creating a string with double quotes\n",
    "string2 = \"I live in Pakistan.\"\n",
    "print(string2)\n",
    "print(type(string2))"
   ]
  },
  {
   "cell_type": "code",
   "execution_count": 3,
   "metadata": {},
   "outputs": [
    {
     "name": "stdout",
     "output_type": "stream",
     "text": [
      "That was just a short introduction of where I lived\n",
      "and as you can see triple quotes makes it possible to write multi line string.\n",
      "<class 'str'>\n"
     ]
    }
   ],
   "source": [
    "# Creating a string with triple quotes\n",
    "string3 = '''That was just a short introduction of where I lived\n",
    "and as you can see triple quotes makes it possible to write multi line string.'''\n",
    "print(string3)\n",
    "print(type(string3))"
   ]
  },
  {
   "cell_type": "code",
   "execution_count": null,
   "metadata": {},
   "outputs": [],
   "source": [
    "triplequote = '''Triple quotes strings in python are called Docstrings. They are not comments and are read by \n",
    "interpreter, but most of the times in development and programming it is used for detailed explanation of code.'''"
   ]
  }
 ],
 "metadata": {
  "kernelspec": {
   "display_name": "Python 3",
   "language": "python",
   "name": "python3"
  },
  "language_info": {
   "codemirror_mode": {
    "name": "ipython",
    "version": 3
   },
   "file_extension": ".py",
   "mimetype": "text/x-python",
   "name": "python",
   "nbconvert_exporter": "python",
   "pygments_lexer": "ipython3",
   "version": "3.11.4"
  },
  "orig_nbformat": 4
 },
 "nbformat": 4,
 "nbformat_minor": 2
}
