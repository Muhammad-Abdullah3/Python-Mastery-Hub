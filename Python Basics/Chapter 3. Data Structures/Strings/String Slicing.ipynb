{
 "cells": [
  {
   "cell_type": "code",
   "execution_count": 7,
   "metadata": {},
   "outputs": [
    {
     "name": "stdout",
     "output_type": "stream",
     "text": [
      "slicing first five elements: My fa\n"
     ]
    }
   ],
   "source": [
    "# Demonstration of Slicing of String\n",
    "# In Python\n",
    "#Creating a string\n",
    "string1  = \"My favourite sportsman is Ronaldo.\"\n",
    "print(\"slicing first five elements:\",string1[0:5])"
   ]
  },
  {
   "cell_type": "code",
   "execution_count": 8,
   "metadata": {},
   "outputs": [
    {
     "name": "stdout",
     "output_type": "stream",
     "text": [
      "Slicing last five elemnts: naldo.\n"
     ]
    }
   ],
   "source": [
    "print(\"Slicing last five elemnts:\",string1[-6:])"
   ]
  },
  {
   "cell_type": "code",
   "execution_count": 9,
   "metadata": {},
   "outputs": [
    {
     "name": "stdout",
     "output_type": "stream",
     "text": [
      "Slicing character from 5-12: o\n"
     ]
    }
   ],
   "source": [
    "print(\"Slicing character from 5-12:\",string1[5-12])"
   ]
  },
  {
   "cell_type": "code",
   "execution_count": null,
   "metadata": {},
   "outputs": [],
   "source": []
  }
 ],
 "metadata": {
  "kernelspec": {
   "display_name": "Python 3",
   "language": "python",
   "name": "python3"
  },
  "language_info": {
   "codemirror_mode": {
    "name": "ipython",
    "version": 3
   },
   "file_extension": ".py",
   "mimetype": "text/x-python",
   "name": "python",
   "nbconvert_exporter": "python",
   "pygments_lexer": "ipython3",
   "version": "3.11.4"
  },
  "orig_nbformat": 4
 },
 "nbformat": 4,
 "nbformat_minor": 2
}
