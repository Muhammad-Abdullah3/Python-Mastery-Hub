{
 "cells": [
  {
   "cell_type": "code",
   "execution_count": 4,
   "metadata": {},
   "outputs": [
    {
     "name": "stdout",
     "output_type": "stream",
     "text": [
      "Abdullah: My name is \"Abdullah\"\n"
     ]
    }
   ],
   "source": [
    "# Demonstrating escape sequencing in Python\n",
    "# Initial string with triple quotes telling her the name\n",
    "string1 = '''Abdullah: My name is \"Abdullah\"'''\n",
    "print(string1)"
   ]
  },
  {
   "cell_type": "code",
   "execution_count": 5,
   "metadata": {},
   "outputs": [
    {
     "name": "stdout",
     "output_type": "stream",
     "text": [
      "String with single quote escaped: Abdullah: I'm a programmer.\n"
     ]
    }
   ],
   "source": [
    "# Introduction using a single quote escaping\n",
    "string2 = \"Abdullah: I\\'m a programmer.\"\n",
    "print(\"String with single quote escaped:\",string2)"
   ]
  },
  {
   "cell_type": "code",
   "execution_count": 6,
   "metadata": {},
   "outputs": [
    {
     "name": "stdout",
     "output_type": "stream",
     "text": [
      "Confession with double quote: She said \"I Love You\"-A beautiful girl came running and confessed her feelings to Abdullah.-\n"
     ]
    }
   ],
   "source": [
    "# Escaping Double quotes\n",
    "string3 = \"She said \\\"I Love You\\\"-A beautiful girl came running and confessed her feelings to Abdullah.-\"\n",
    "print(\"Confession with double quote:\", string3)"
   ]
  },
  {
   "cell_type": "code",
   "execution_count": 10,
   "metadata": {},
   "outputs": [
    {
     "name": "stdout",
     "output_type": "stream",
     "text": [
      "Rejection which did not seem like one: Abdullah: You know that You are located in C:\\Users\\Temp\\files \n"
     ]
    }
   ],
   "source": [
    "# His rejection using backslash escaping \n",
    "Rejection = \"Abdullah: You know that You are located in C:\\\\Users\\\\Temp\\\\files \"\n",
    "print(\"Rejection which did not seem like one:\",Rejection)"
   ]
  },
  {
   "cell_type": "code",
   "execution_count": 11,
   "metadata": {},
   "outputs": [
    {
     "name": "stdout",
     "output_type": "stream",
     "text": [
      "Well......\n",
      "I fancy you though but I can't offer anything but pain to those who I love.\n"
     ]
    }
   ],
   "source": [
    "# New line escaping\n",
    "# He stopped and then said\n",
    "print(\"Well......\\nI fancy you though but I can\\'t offer anything but pain to those who I love.\")"
   ]
  },
  {
   "cell_type": "markdown",
   "metadata": {},
   "source": [
    "# Raw String"
   ]
  },
  {
   "cell_type": "code",
   "execution_count": 3,
   "metadata": {},
   "outputs": [
    {
     "name": "stdout",
     "output_type": "stream",
     "text": [
      "Printing Hello using octal code by the help of escape sequence: Hello\n"
     ]
    }
   ],
   "source": [
    "# Printing Hello in Octal\n",
    "rstring = \"\\110\\145\\154\\154\\157\"\n",
    "print(\"Printing Hello using octal code by the help of escape sequence:\",rstring)"
   ]
  },
  {
   "cell_type": "code",
   "execution_count": 4,
   "metadata": {},
   "outputs": [
    {
     "name": "stdout",
     "output_type": "stream",
     "text": [
      "When we use raw string escape sequence are ignored: \\110\\145\\154\\154\\157\n"
     ]
    }
   ],
   "source": [
    "# Now printing same thing with raw string\n",
    "rstring1 = r\"\\110\\145\\154\\154\\157\"\n",
    "print(\"When we use raw string escape sequence are ignored:\",rstring1)"
   ]
  },
  {
   "cell_type": "code",
   "execution_count": null,
   "metadata": {},
   "outputs": [],
   "source": []
  }
 ],
 "metadata": {
  "kernelspec": {
   "display_name": "Python 3",
   "language": "python",
   "name": "python3"
  },
  "language_info": {
   "codemirror_mode": {
    "name": "ipython",
    "version": 3
   },
   "file_extension": ".py",
   "mimetype": "text/x-python",
   "name": "python",
   "nbconvert_exporter": "python",
   "pygments_lexer": "ipython3",
   "version": "3.11.4"
  },
  "orig_nbformat": 4
 },
 "nbformat": 4,
 "nbformat_minor": 2
}
