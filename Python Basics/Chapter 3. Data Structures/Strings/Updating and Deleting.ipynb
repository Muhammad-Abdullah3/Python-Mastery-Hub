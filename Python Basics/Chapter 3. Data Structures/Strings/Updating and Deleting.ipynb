{
 "cells": [
  {
   "cell_type": "markdown",
   "metadata": {},
   "source": [
    "# Updating Strings"
   ]
  },
  {
   "cell_type": "code",
   "execution_count": 1,
   "metadata": {},
   "outputs": [
    {
     "name": "stdout",
     "output_type": "stream",
     "text": [
      "Before Updating the string: M Abdullah\n"
     ]
    }
   ],
   "source": [
    "# Demonstration of how to update strings\n",
    "# Creating immutable string\n",
    "string1 = \"M Abdullah\" # Don't worry it's not a name of some serial killer\n",
    "print(\"Before Updating the string:\",string1)\n"
   ]
  },
  {
   "cell_type": "code",
   "execution_count": 2,
   "metadata": {},
   "outputs": [
    {
     "name": "stdout",
     "output_type": "stream",
     "text": [
      "Printing out the list to verify: ['M', ' ', 'A', 'b', 'd', 'u', 'l', 'l', 'a', 'h']\n"
     ]
    }
   ],
   "source": [
    "# Updating the string\n",
    "# Method 1\n",
    "# Converting the string into a list\n",
    "list1 = list(string1)\n",
    "print(\"Printing out the list to verify:\",list1)"
   ]
  },
  {
   "cell_type": "code",
   "execution_count": 3,
   "metadata": {},
   "outputs": [
    {
     "name": "stdout",
     "output_type": "stream",
     "text": [
      "String after the updation of character at 2nd index:\n",
      " M.Abdullah\n"
     ]
    }
   ],
   "source": [
    "# Updating a character of list1\n",
    "list1[1] = '.' # Updating character at index 1 with a full stop\n",
    "# Using Join function to update string\n",
    "string1=''.join(list1)\n",
    "# Updated the string\n",
    "print(\"String after the updation of character at 2nd index:\\n\",string1)"
   ]
  },
  {
   "cell_type": "code",
   "execution_count": 4,
   "metadata": {},
   "outputs": [
    {
     "name": "stdout",
     "output_type": "stream",
     "text": [
      "String after the second update using string slicing method:\n",
      " M.ShahzaibAbdullah\n"
     ]
    }
   ],
   "source": [
    "# Method 2\n",
    "# Using string slicing\n",
    "string1 = string1[0:2]+'Shahzaib'+string1[2:]\n",
    "print(\"String after the second update using string slicing method:\\n\",string1)"
   ]
  },
  {
   "cell_type": "code",
   "execution_count": 5,
   "metadata": {},
   "outputs": [
    {
     "name": "stdout",
     "output_type": "stream",
     "text": [
      "Initial string: I will not give up.\n",
      "String after assigning a new value: You will give up.\n"
     ]
    }
   ],
   "source": [
    "# Method 3\n",
    "# Updating the whole string by assigning a new value\n",
    "string2 = \"I will not give up.\"\n",
    "print(\"Initial string:\",string2)\n",
    "string2 = \"You will give up.\"\n",
    "print(\"String after assigning a new value:\",string2)"
   ]
  },
  {
   "cell_type": "markdown",
   "metadata": {},
   "source": [
    "# Deleting Strings"
   ]
  },
  {
   "cell_type": "code",
   "execution_count": 7,
   "metadata": {},
   "outputs": [
    {
     "ename": "TypeError",
     "evalue": "'str' object doesn't support item deletion",
     "output_type": "error",
     "traceback": [
      "\u001b[1;31m---------------------------------------------------------------------------\u001b[0m",
      "\u001b[1;31mTypeError\u001b[0m                                 Traceback (most recent call last)",
      "Cell \u001b[1;32mIn[7], line 5\u001b[0m\n\u001b[0;32m      3\u001b[0m string3 \u001b[39m=\u001b[39m \u001b[39m\"\u001b[39m\u001b[39mPython Perfect\u001b[39m\u001b[39m\"\u001b[39m\n\u001b[0;32m      4\u001b[0m \u001b[39m# Trying to remove a character at index 2 using del keyword\u001b[39;00m\n\u001b[1;32m----> 5\u001b[0m \u001b[39mdel\u001b[39;00m string3[\u001b[39m2\u001b[39;49m]\n",
      "\u001b[1;31mTypeError\u001b[0m: 'str' object doesn't support item deletion"
     ]
    }
   ],
   "source": [
    "# Python Programe for the demonstration of deletion of string\n",
    "# Creating a string\n",
    "string3 = \"Python Perfect\"\n",
    "# Trying to remove a character at index 2 using del keyword\n",
    "del string3[2] # Computer will give us an error"
   ]
  },
  {
   "cell_type": "code",
   "execution_count": 8,
   "metadata": {},
   "outputs": [],
   "source": [
    "# deleting whole string using del\n",
    "del string3"
   ]
  },
  {
   "cell_type": "code",
   "execution_count": 9,
   "metadata": {},
   "outputs": [
    {
     "ename": "NameError",
     "evalue": "name 'string3' is not defined",
     "output_type": "error",
     "traceback": [
      "\u001b[1;31m---------------------------------------------------------------------------\u001b[0m",
      "\u001b[1;31mNameError\u001b[0m                                 Traceback (most recent call last)",
      "Cell \u001b[1;32mIn[9], line 2\u001b[0m\n\u001b[0;32m      1\u001b[0m \u001b[39m# Checking if the string is deleted or not\u001b[39;00m\n\u001b[1;32m----> 2\u001b[0m \u001b[39mprint\u001b[39m(string3)\n",
      "\u001b[1;31mNameError\u001b[0m: name 'string3' is not defined"
     ]
    }
   ],
   "source": [
    "# Checking if the string is deleted or not\n",
    "print(string3) # Computer should give us a NameError that string3 is not defined"
   ]
  },
  {
   "cell_type": "code",
   "execution_count": 10,
   "metadata": {},
   "outputs": [
    {
     "name": "stdout",
     "output_type": "stream",
     "text": [
      "String after deletion of 'n' at index 5: Pyhon Perfect\n"
     ]
    }
   ],
   "source": [
    "# Removing character using slicing and concatenation of strings\n",
    "'''In Concatenation we simply add two string using + operator or add a character in it. '''\n",
    "# Creating string3 again\n",
    "string3 = \"Python Perfect\"\n",
    "# Slicing till 5 index and then adding the string from index 6 to remove character at index 5\n",
    "string3 = string3[0:2]+string3[3:]\n",
    "# Printing out the string\n",
    "print(\"String after deletion of \\'n' at index 5:\",string3)"
   ]
  },
  {
   "cell_type": "code",
   "execution_count": null,
   "metadata": {},
   "outputs": [],
   "source": []
  }
 ],
 "metadata": {
  "kernelspec": {
   "display_name": "Python 3",
   "language": "python",
   "name": "python3"
  },
  "language_info": {
   "codemirror_mode": {
    "name": "ipython",
    "version": 3
   },
   "file_extension": ".py",
   "mimetype": "text/x-python",
   "name": "python",
   "nbconvert_exporter": "python",
   "pygments_lexer": "ipython3",
   "version": "3.11.4"
  },
  "orig_nbformat": 4
 },
 "nbformat": 4,
 "nbformat_minor": 2
}
