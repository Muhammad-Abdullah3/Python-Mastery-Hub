{
 "cells": [
  {
   "cell_type": "code",
   "execution_count": 1,
   "metadata": {},
   "outputs": [
    {
     "name": "stdout",
     "output_type": "stream",
     "text": [
      "This person is not an adult and does not hold ID Card.\n"
     ]
    }
   ],
   "source": [
    "# Python program to demonstrate if statement\n",
    "# Creating a variable\n",
    "age = int(input(\"Enter your age:\"))\n",
    "if age>= 18:\n",
    "    print(\"The person is an adult and holds ID Card.\")\n",
    "else:\n",
    "    print(\"This person is not an adult and does not hold ID Card.\")"
   ]
  },
  {
   "cell_type": "code",
   "execution_count": null,
   "metadata": {},
   "outputs": [],
   "source": []
  }
 ],
 "metadata": {
  "kernelspec": {
   "display_name": "Python 3",
   "language": "python",
   "name": "python3"
  },
  "language_info": {
   "codemirror_mode": {
    "name": "ipython",
    "version": 3
   },
   "file_extension": ".py",
   "mimetype": "text/x-python",
   "name": "python",
   "nbconvert_exporter": "python",
   "pygments_lexer": "ipython3",
   "version": "3.11.4"
  },
  "orig_nbformat": 4
 },
 "nbformat": 4,
 "nbformat_minor": 2
}
