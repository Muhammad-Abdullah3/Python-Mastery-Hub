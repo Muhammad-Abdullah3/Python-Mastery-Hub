{
 "cells": [
  {
   "cell_type": "code",
   "execution_count": 1,
   "metadata": {},
   "outputs": [
    {
     "name": "stdout",
     "output_type": "stream",
     "text": [
      "A Grade\n"
     ]
    }
   ],
   "source": [
    "# # Python program to demonstrate if elif else statement\n",
    "# Creating a variable\n",
    "marks = int(input(\"Enter marks to check Grade:\"))\n",
    "if marks>=80:\n",
    "    print(\"A+ Grade\")\n",
    "elif marks>=70 & marks<80:\n",
    "    print(\"A Grade\")\n",
    "elif marks>=60 & marks<70:\n",
    "    print(\"B Grade\")\n",
    "elif marks>=50 & marks<60:\n",
    "    print(\"C Grade\")\n",
    "elif marks>=40 & marks<50:\n",
    "    print(\"D Grade\")\n",
    "else:\n",
    "    print(\"You have failed Yourself.\")"
   ]
  },
  {
   "cell_type": "code",
   "execution_count": null,
   "metadata": {},
   "outputs": [],
   "source": []
  }
 ],
 "metadata": {
  "kernelspec": {
   "display_name": "Python 3",
   "language": "python",
   "name": "python3"
  },
  "language_info": {
   "codemirror_mode": {
    "name": "ipython",
    "version": 3
   },
   "file_extension": ".py",
   "mimetype": "text/x-python",
   "name": "python",
   "nbconvert_exporter": "python",
   "pygments_lexer": "ipython3",
   "version": "3.11.4"
  },
  "orig_nbformat": 4
 },
 "nbformat": 4,
 "nbformat_minor": 2
}
