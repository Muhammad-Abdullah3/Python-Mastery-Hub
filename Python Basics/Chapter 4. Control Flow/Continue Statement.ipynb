{
 "cells": [
  {
   "cell_type": "code",
   "execution_count": 15,
   "metadata": {},
   "outputs": [
    {
     "name": "stdout",
     "output_type": "stream",
     "text": [
      "T,h,e, ,a,m,e, ,i,s, ,w,h,a,t, ,d,e,f,i,e,s, ,y,o,u,.,"
     ]
    }
   ],
   "source": [
    "# Demonstration of continue statement in for loop\n",
    "# Creating a variable\n",
    "string = \"The name is what defines you.\"\n",
    "for chr in string:\n",
    "    if chr == \"n\":\n",
    "        continue\n",
    "    print(chr,end=\",\")"
   ]
  },
  {
   "cell_type": "code",
   "execution_count": 1,
   "metadata": {},
   "outputs": [
    {
     "name": "stdout",
     "output_type": "stream",
     "text": [
      "5 6 7 9 "
     ]
    }
   ],
   "source": [
    "# Printing range with python continue statement\n",
    "# Skipping 8 in the range\n",
    "for i in range(5,10):\n",
    "    if i == 8:\n",
    "        continue\n",
    "    print(i,end=\" \")"
   ]
  },
  {
   "cell_type": "code",
   "execution_count": 4,
   "metadata": {},
   "outputs": [
    {
     "name": "stdout",
     "output_type": "stream",
     "text": [
      "1\n",
      "2\n",
      "4\n",
      "5\n",
      "6\n",
      "7\n"
     ]
    }
   ],
   "source": [
    "# Continur with while loop\n",
    "num = 1\n",
    "while num<8:\n",
    "    if num==3:\n",
    "        num+=1\n",
    "        continue\n",
    "    print(num)\n",
    "    num+=1"
   ]
  },
  {
   "cell_type": "code",
   "execution_count": 9,
   "metadata": {},
   "outputs": [
    {
     "name": "stdout",
     "output_type": "stream",
     "text": [
      "1 3 3 5 3 7 9 "
     ]
    }
   ],
   "source": [
    "# Continue wiht nested loop\n",
    "listing = [[1,2,3],[3,4,5,6],[3,7,8,9]]\n",
    "for li in listing:\n",
    "    for ti in li:\n",
    "        if ti%2 == 0:\n",
    "            continue\n",
    "        print(ti,end=\" \")"
   ]
  },
  {
   "cell_type": "code",
   "execution_count": null,
   "metadata": {},
   "outputs": [],
   "source": []
  }
 ],
 "metadata": {
  "kernelspec": {
   "display_name": "Python 3",
   "language": "python",
   "name": "python3"
  },
  "language_info": {
   "codemirror_mode": {
    "name": "ipython",
    "version": 3
   },
   "file_extension": ".py",
   "mimetype": "text/x-python",
   "name": "python",
   "nbconvert_exporter": "python",
   "pygments_lexer": "ipython3",
   "version": "3.11.4"
  },
  "orig_nbformat": 4
 },
 "nbformat": 4,
 "nbformat_minor": 2
}
