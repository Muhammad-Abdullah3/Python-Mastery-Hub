{
 "cells": [
  {
   "cell_type": "code",
   "execution_count": 4,
   "metadata": {},
   "outputs": [
    {
     "name": "stdout",
     "output_type": "stream",
     "text": [
      "1\n",
      "2\n",
      "3\n"
     ]
    }
   ],
   "source": [
    "# Python program to demonstrate break statement\n",
    "# Creating a loop and breaking it when value = 3\n",
    "for i in range(1,10):\n",
    "    print(i)\n",
    "    if i==3:\n",
    "        break\n"
   ]
  },
  {
   "cell_type": "code",
   "execution_count": 5,
   "metadata": {},
   "outputs": [
    {
     "name": "stdout",
     "output_type": "stream",
     "text": [
      "S\n",
      "c\n",
      "a\n",
      "v\n",
      "a\n",
      "n\n",
      "g\n",
      "i\n",
      "n\n",
      "g\n",
      " \n",
      "i\n",
      "s\n",
      " \n",
      "w\n",
      "Out of for loop after and we got: ['S', 'c', 'a', 'v', 'a', 'n', 'g', 'i', 'n', 'g', ' ', 'i', 's', ' ', 'w']\n"
     ]
    }
   ],
   "source": [
    "# Creating a string\n",
    "my_life = \"Scavanging is what saved me\"\n",
    "list1 = []\n",
    "# Using for loop\n",
    "for chr in my_life:\n",
    "    print(chr)\n",
    "    # Adding all the character into a list so we can see in the end how many characters have we iterated \n",
    "    # through\n",
    "    list1.append(chr)\n",
    "    # Break the loop when it encounters w or m\n",
    "    if chr == \"w\" or chr=='m':\n",
    "        break\n",
    "print(\"Out of for loop after and we got:\",list1)"
   ]
  },
  {
   "cell_type": "code",
   "execution_count": 6,
   "metadata": {},
   "outputs": [
    {
     "name": "stdout",
     "output_type": "stream",
     "text": [
      "S\n",
      "c\n",
      "a\n",
      "v\n",
      "a\n",
      "n\n",
      "g\n",
      "i\n",
      "n\n",
      "g\n",
      " \n",
      "i\n",
      "s\n",
      " \n",
      "w\n",
      "Out of for loop and we got: ['S', 'c', 'a', 'v', 'a', 'n', 'g', 'i', 'n', 'g', ' ', 'i', 's', ' ', 'w']\n"
     ]
    }
   ],
   "source": [
    "# Doing same thing using while loop\n",
    "i = 0\n",
    "list2 = []\n",
    "while my_life[i]:\n",
    "    print(my_life[i])\n",
    "    list2.append(my_life[i])\n",
    "    if my_life[i] == 'w' or my_life[i] == 'm':\n",
    "        break\n",
    "    i +=1\n",
    "print(\"Out of for loop and we got:\",list2)\n"
   ]
  },
  {
   "cell_type": "code",
   "execution_count": 7,
   "metadata": {},
   "outputs": [
    {
     "name": "stdout",
     "output_type": "stream",
     "text": [
      "True\n"
     ]
    }
   ],
   "source": [
    "# Checking if both lists are the same\n",
    "print(list1 == list2)"
   ]
  },
  {
   "cell_type": "code",
   "execution_count": null,
   "metadata": {},
   "outputs": [],
   "source": []
  }
 ],
 "metadata": {
  "kernelspec": {
   "display_name": "Python 3",
   "language": "python",
   "name": "python3"
  },
  "language_info": {
   "codemirror_mode": {
    "name": "ipython",
    "version": 3
   },
   "file_extension": ".py",
   "mimetype": "text/x-python",
   "name": "python",
   "nbconvert_exporter": "python",
   "pygments_lexer": "ipython3",
   "version": "3.11.4"
  },
  "orig_nbformat": 4
 },
 "nbformat": 4,
 "nbformat_minor": 2
}
