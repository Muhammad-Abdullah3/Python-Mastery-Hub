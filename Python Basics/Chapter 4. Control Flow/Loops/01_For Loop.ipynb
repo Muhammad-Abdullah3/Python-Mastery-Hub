{
 "cells": [
  {
   "cell_type": "code",
   "execution_count": 2,
   "metadata": {},
   "outputs": [
    {
     "name": "stdout",
     "output_type": "stream",
     "text": [
      "Lenght of string is:  74\n"
     ]
    }
   ],
   "source": [
    "# Python program to demonstrate for loops\n",
    "# Creating a string\n",
    "i = \"This is a string but you can call it sass and mass production can be done.\"\n",
    "len = 0\n",
    "# Creating a for loop to count total characters in the string\n",
    "for ele in i:\n",
    "    len =len +1\n",
    "print(\"Lenght of string is: \", len)"
   ]
  },
  {
   "cell_type": "code",
   "execution_count": 3,
   "metadata": {},
   "outputs": [
    {
     "name": "stdout",
     "output_type": "stream",
     "text": [
      "Nothing\n",
      "Can\n",
      "Stop\n",
      "me\n",
      "I'm\n",
      "all\n",
      "the\n",
      "way\n",
      "up.\n"
     ]
    }
   ],
   "source": [
    "# For loop in lists\n",
    "# Creating a  list\n",
    "list = [\"Nothing\",\"Can\",\"Stop\",\"me\",\"I'm\",\"all\",\"the\",\"way\",\"up.\"]\n",
    "# Printing every element with the use of for loop\n",
    "for li in list:\n",
    "    print(li)"
   ]
  },
  {
   "cell_type": "code",
   "execution_count": 5,
   "metadata": {},
   "outputs": [
    {
     "name": "stdout",
     "output_type": "stream",
     "text": [
      "1\n",
      "3\n",
      "5\n",
      "7\n",
      "9\n"
     ]
    }
   ],
   "source": [
    "# Python for loop with range\n",
    "for i in range(1,10,2):\n",
    "    # Printing numbers in between 0 and 50 with the gap of one digit\n",
    "    print(i)"
   ]
  },
  {
   "cell_type": "code",
   "execution_count": null,
   "metadata": {},
   "outputs": [],
   "source": []
  }
 ],
 "metadata": {
  "kernelspec": {
   "display_name": "Python 3",
   "language": "python",
   "name": "python3"
  },
  "language_info": {
   "codemirror_mode": {
    "name": "ipython",
    "version": 3
   },
   "file_extension": ".py",
   "mimetype": "text/x-python",
   "name": "python",
   "nbconvert_exporter": "python",
   "pygments_lexer": "ipython3",
   "version": "3.11.4"
  },
  "orig_nbformat": 4
 },
 "nbformat": 4,
 "nbformat_minor": 2
}
